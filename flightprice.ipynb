{
 "cells": [
  {
   "cell_type": "markdown",
   "id": "80b1f0fe",
   "metadata": {
    "_cell_guid": "b1076dfc-b9ad-4769-8c92-a6c4dae69d19",
    "_uuid": "8f2839f25d086af736a60e9eeb907d3b93b6e0e5",
    "papermill": {
     "duration": 0.021474,
     "end_time": "2023-08-06T19:26:01.386247",
     "exception": false,
     "start_time": "2023-08-06T19:26:01.364773",
     "status": "completed"
    },
    "tags": []
   },
   "source": [
    "# Question\n",
    "\n",
    "income prices to airline\n",
    "\n",
    "Airline prices books based on any feature?\n",
    "\n",
    "How does the ticket price vary between Economy and Business class?\n",
    "\n",
    "How does the ticket price vary days_left?\n",
    "\n",
    "How does the ticket price vary stop_days?\n",
    "\n",
    "How does the ticket price vary between source and destionation?\n",
    "\n",
    "How does the ticket price vary between arrival and departure_time ?\n",
    "\n",
    "Does ticket price change based on the duration?"
   ]
  },
  {
   "cell_type": "markdown",
   "id": "abd8aa76",
   "metadata": {
    "papermill": {
     "duration": 0.022477,
     "end_time": "2023-08-06T19:26:01.432506",
     "exception": false,
     "start_time": "2023-08-06T19:26:01.410029",
     "status": "completed"
    },
    "tags": []
   },
   "source": [
    "# DATA COLLECTION\n",
    "The objective of the study is to analyse the flight booking dataset obtained from “Ease My Trip” website. from the website Easemytrip for flight travel between India's top 6 metro cities. A total of 300261 distinct flight booking options was extracted from the site. Data was collected for 50 days, from February 11th to March 31st, 2022.\n",
    "\n",
    "## Feature\n",
    "1) Airline: The name of the airline company is stored in the airline column. It is a categorical feature having 6 different airlines.\n",
    "\n",
    "2) Flight: Flight stores information regarding the plane's flight code. It is a categorical feature.\n",
    "\n",
    "3) Source City: City from which the flight takes off. It is a categorical feature having 6 unique cities.\n",
    "\n",
    "4) Departure Time: This is a derived categorical feature obtained created by grouping time periods into bins. It stores information about the departure time and have 6 unique time labels.\n",
    "\n",
    "5) Stops: A categorical feature with 3 distinct values that stores the number of stops between the source and destination cities.\n",
    "\n",
    "6) Arrival Time: This is a derived categorical feature created by grouping time intervals into bins. It has six distinct time labels and keeps information about the arrival time.\n",
    "\n",
    "7) Destination City: City where the flight will land. It is a categorical feature having 6 unique cities.\n",
    "\n",
    "8) Class: A categorical feature that contains information on seat class; it has two distinct values: Business and Economy.\n",
    "\n",
    "9) Duration: A continuous feature that displays the overall amount of time it takes to travel between cities in hours.\n",
    "\n",
    "10)Days Left: This is a derived characteristic that is calculated by subtracting the trip date by the booking date.\n",
    "\n",
    "11) Price: Target variable stores information of the ticket price."
   ]
  },
  {
   "cell_type": "markdown",
   "id": "34383de6",
   "metadata": {
    "execution": {
     "iopub.execute_input": "2023-08-06T18:48:48.797246Z",
     "iopub.status.busy": "2023-08-06T18:48:48.796861Z",
     "iopub.status.idle": "2023-08-06T18:48:48.823659Z",
     "shell.execute_reply": "2023-08-06T18:48:48.822798Z",
     "shell.execute_reply.started": "2023-08-06T18:48:48.797213Z"
    },
    "papermill": {
     "duration": 0.021147,
     "end_time": "2023-08-06T19:26:01.475596",
     "exception": false,
     "start_time": "2023-08-06T19:26:01.454449",
     "status": "completed"
    },
    "tags": []
   },
   "source": [
    "# import library "
   ]
  },
  {
   "cell_type": "code",
   "execution_count": 1,
   "id": "4b65f837",
   "metadata": {
    "execution": {
     "iopub.execute_input": "2023-08-06T19:26:01.519851Z",
     "iopub.status.busy": "2023-08-06T19:26:01.519039Z",
     "iopub.status.idle": "2023-08-06T19:26:03.186856Z",
     "shell.execute_reply": "2023-08-06T19:26:03.185376Z"
    },
    "papermill": {
     "duration": 1.694171,
     "end_time": "2023-08-06T19:26:03.190627",
     "exception": false,
     "start_time": "2023-08-06T19:26:01.496456",
     "status": "completed"
    },
    "tags": []
   },
   "outputs": [
    {
     "name": "stderr",
     "output_type": "stream",
     "text": [
      "/opt/conda/lib/python3.10/site-packages/scipy/__init__.py:146: UserWarning: A NumPy version >=1.16.5 and <1.23.0 is required for this version of SciPy (detected version 1.23.5\n",
      "  warnings.warn(f\"A NumPy version >={np_minversion} and <{np_maxversion}\"\n"
     ]
    }
   ],
   "source": [
    "import numpy as np\n",
    "import pandas as pd\n",
    "import seaborn as sns\n",
    "import matplotlib.pyplot as plt"
   ]
  },
  {
   "cell_type": "code",
   "execution_count": 2,
   "id": "13657a1f",
   "metadata": {
    "execution": {
     "iopub.execute_input": "2023-08-06T19:26:03.234445Z",
     "iopub.status.busy": "2023-08-06T19:26:03.234023Z",
     "iopub.status.idle": "2023-08-06T19:26:04.077157Z",
     "shell.execute_reply": "2023-08-06T19:26:04.075277Z"
    },
    "papermill": {
     "duration": 0.868392,
     "end_time": "2023-08-06T19:26:04.079971",
     "exception": false,
     "start_time": "2023-08-06T19:26:03.211579",
     "status": "completed"
    },
    "tags": []
   },
   "outputs": [],
   "source": [
    "data=pd.read_csv(\"/kaggle/input/flight-price-prediction/Clean_Dataset.csv\")"
   ]
  },
  {
   "cell_type": "code",
   "execution_count": 3,
   "id": "5d708745",
   "metadata": {
    "execution": {
     "iopub.execute_input": "2023-08-06T19:26:04.127377Z",
     "iopub.status.busy": "2023-08-06T19:26:04.126922Z",
     "iopub.status.idle": "2023-08-06T19:26:04.917468Z",
     "shell.execute_reply": "2023-08-06T19:26:04.916219Z"
    },
    "papermill": {
     "duration": 0.816755,
     "end_time": "2023-08-06T19:26:04.920839",
     "exception": false,
     "start_time": "2023-08-06T19:26:04.104084",
     "status": "completed"
    },
    "tags": []
   },
   "outputs": [
    {
     "name": "stdout",
     "output_type": "stream",
     "text": [
      "<class 'pandas.core.frame.DataFrame'>\n",
      "RangeIndex: 300153 entries, 0 to 300152\n",
      "Data columns (total 12 columns):\n",
      " #   Column            Non-Null Count   Dtype  \n",
      "---  ------            --------------   -----  \n",
      " 0   Unnamed: 0        300153 non-null  int64  \n",
      " 1   airline           300153 non-null  object \n",
      " 2   flight            300153 non-null  object \n",
      " 3   source_city       300153 non-null  object \n",
      " 4   departure_time    300153 non-null  object \n",
      " 5   stops             300153 non-null  object \n",
      " 6   arrival_time      300153 non-null  object \n",
      " 7   destination_city  300153 non-null  object \n",
      " 8   class             300153 non-null  object \n",
      " 9   duration          300153 non-null  float64\n",
      " 10  days_left         300153 non-null  int64  \n",
      " 11  price             300153 non-null  int64  \n",
      "dtypes: float64(1), int64(3), object(8)\n",
      "memory usage: 27.5+ MB\n"
     ]
    }
   ],
   "source": [
    "data.info()"
   ]
  },
  {
   "cell_type": "code",
   "execution_count": 4,
   "id": "5d7ec47f",
   "metadata": {
    "execution": {
     "iopub.execute_input": "2023-08-06T19:26:04.966365Z",
     "iopub.status.busy": "2023-08-06T19:26:04.965936Z",
     "iopub.status.idle": "2023-08-06T19:26:05.741437Z",
     "shell.execute_reply": "2023-08-06T19:26:05.740081Z"
    },
    "papermill": {
     "duration": 0.801821,
     "end_time": "2023-08-06T19:26:05.744071",
     "exception": false,
     "start_time": "2023-08-06T19:26:04.942250",
     "status": "completed"
    },
    "tags": []
   },
   "outputs": [
    {
     "data": {
      "text/plain": [
       "Unnamed: 0          0\n",
       "airline             0\n",
       "flight              0\n",
       "source_city         0\n",
       "departure_time      0\n",
       "stops               0\n",
       "arrival_time        0\n",
       "destination_city    0\n",
       "class               0\n",
       "duration            0\n",
       "days_left           0\n",
       "price               0\n",
       "dtype: int64"
      ]
     },
     "execution_count": 4,
     "metadata": {},
     "output_type": "execute_result"
    }
   ],
   "source": [
    "data.isnull().sum()"
   ]
  },
  {
   "cell_type": "markdown",
   "id": "26f1912d",
   "metadata": {
    "papermill": {
     "duration": 0.020754,
     "end_time": "2023-08-06T19:26:05.786192",
     "exception": false,
     "start_time": "2023-08-06T19:26:05.765438",
     "status": "completed"
    },
    "tags": []
   },
   "source": [
    "data is not null"
   ]
  },
  {
   "cell_type": "markdown",
   "id": "4d2f4f20",
   "metadata": {
    "papermill": {
     "duration": 0.021357,
     "end_time": "2023-08-06T19:26:05.828752",
     "exception": false,
     "start_time": "2023-08-06T19:26:05.807395",
     "status": "completed"
    },
    "tags": []
   },
   "source": [
    "## Cleaning Data"
   ]
  },
  {
   "cell_type": "code",
   "execution_count": 5,
   "id": "e9e7355a",
   "metadata": {
    "execution": {
     "iopub.execute_input": "2023-08-06T19:26:05.873302Z",
     "iopub.status.busy": "2023-08-06T19:26:05.872837Z",
     "iopub.status.idle": "2023-08-06T19:26:05.916307Z",
     "shell.execute_reply": "2023-08-06T19:26:05.915006Z"
    },
    "papermill": {
     "duration": 0.069008,
     "end_time": "2023-08-06T19:26:05.918987",
     "exception": false,
     "start_time": "2023-08-06T19:26:05.849979",
     "status": "completed"
    },
    "tags": []
   },
   "outputs": [],
   "source": [
    "df = data.copy()"
   ]
  },
  {
   "cell_type": "code",
   "execution_count": 6,
   "id": "dd264616",
   "metadata": {
    "execution": {
     "iopub.execute_input": "2023-08-06T19:26:05.963883Z",
     "iopub.status.busy": "2023-08-06T19:26:05.963143Z",
     "iopub.status.idle": "2023-08-06T19:26:05.994733Z",
     "shell.execute_reply": "2023-08-06T19:26:05.993504Z"
    },
    "papermill": {
     "duration": 0.057014,
     "end_time": "2023-08-06T19:26:05.997299",
     "exception": false,
     "start_time": "2023-08-06T19:26:05.940285",
     "status": "completed"
    },
    "tags": []
   },
   "outputs": [
    {
     "data": {
      "text/html": [
       "<div>\n",
       "<style scoped>\n",
       "    .dataframe tbody tr th:only-of-type {\n",
       "        vertical-align: middle;\n",
       "    }\n",
       "\n",
       "    .dataframe tbody tr th {\n",
       "        vertical-align: top;\n",
       "    }\n",
       "\n",
       "    .dataframe thead th {\n",
       "        text-align: right;\n",
       "    }\n",
       "</style>\n",
       "<table border=\"1\" class=\"dataframe\">\n",
       "  <thead>\n",
       "    <tr style=\"text-align: right;\">\n",
       "      <th></th>\n",
       "      <th>Unnamed: 0</th>\n",
       "      <th>airline</th>\n",
       "      <th>flight</th>\n",
       "      <th>source_city</th>\n",
       "      <th>departure_time</th>\n",
       "      <th>stops</th>\n",
       "      <th>arrival_time</th>\n",
       "      <th>destination_city</th>\n",
       "      <th>class</th>\n",
       "      <th>duration</th>\n",
       "      <th>days_left</th>\n",
       "      <th>price</th>\n",
       "    </tr>\n",
       "  </thead>\n",
       "  <tbody>\n",
       "    <tr>\n",
       "      <th>0</th>\n",
       "      <td>0</td>\n",
       "      <td>SpiceJet</td>\n",
       "      <td>SG-8709</td>\n",
       "      <td>Delhi</td>\n",
       "      <td>Evening</td>\n",
       "      <td>zero</td>\n",
       "      <td>Night</td>\n",
       "      <td>Mumbai</td>\n",
       "      <td>Economy</td>\n",
       "      <td>2.17</td>\n",
       "      <td>1</td>\n",
       "      <td>5953</td>\n",
       "    </tr>\n",
       "    <tr>\n",
       "      <th>1</th>\n",
       "      <td>1</td>\n",
       "      <td>SpiceJet</td>\n",
       "      <td>SG-8157</td>\n",
       "      <td>Delhi</td>\n",
       "      <td>Early_Morning</td>\n",
       "      <td>zero</td>\n",
       "      <td>Morning</td>\n",
       "      <td>Mumbai</td>\n",
       "      <td>Economy</td>\n",
       "      <td>2.33</td>\n",
       "      <td>1</td>\n",
       "      <td>5953</td>\n",
       "    </tr>\n",
       "    <tr>\n",
       "      <th>2</th>\n",
       "      <td>2</td>\n",
       "      <td>AirAsia</td>\n",
       "      <td>I5-764</td>\n",
       "      <td>Delhi</td>\n",
       "      <td>Early_Morning</td>\n",
       "      <td>zero</td>\n",
       "      <td>Early_Morning</td>\n",
       "      <td>Mumbai</td>\n",
       "      <td>Economy</td>\n",
       "      <td>2.17</td>\n",
       "      <td>1</td>\n",
       "      <td>5956</td>\n",
       "    </tr>\n",
       "    <tr>\n",
       "      <th>3</th>\n",
       "      <td>3</td>\n",
       "      <td>Vistara</td>\n",
       "      <td>UK-995</td>\n",
       "      <td>Delhi</td>\n",
       "      <td>Morning</td>\n",
       "      <td>zero</td>\n",
       "      <td>Afternoon</td>\n",
       "      <td>Mumbai</td>\n",
       "      <td>Economy</td>\n",
       "      <td>2.25</td>\n",
       "      <td>1</td>\n",
       "      <td>5955</td>\n",
       "    </tr>\n",
       "    <tr>\n",
       "      <th>4</th>\n",
       "      <td>4</td>\n",
       "      <td>Vistara</td>\n",
       "      <td>UK-963</td>\n",
       "      <td>Delhi</td>\n",
       "      <td>Morning</td>\n",
       "      <td>zero</td>\n",
       "      <td>Morning</td>\n",
       "      <td>Mumbai</td>\n",
       "      <td>Economy</td>\n",
       "      <td>2.33</td>\n",
       "      <td>1</td>\n",
       "      <td>5955</td>\n",
       "    </tr>\n",
       "    <tr>\n",
       "      <th>...</th>\n",
       "      <td>...</td>\n",
       "      <td>...</td>\n",
       "      <td>...</td>\n",
       "      <td>...</td>\n",
       "      <td>...</td>\n",
       "      <td>...</td>\n",
       "      <td>...</td>\n",
       "      <td>...</td>\n",
       "      <td>...</td>\n",
       "      <td>...</td>\n",
       "      <td>...</td>\n",
       "      <td>...</td>\n",
       "    </tr>\n",
       "    <tr>\n",
       "      <th>300148</th>\n",
       "      <td>300148</td>\n",
       "      <td>Vistara</td>\n",
       "      <td>UK-822</td>\n",
       "      <td>Chennai</td>\n",
       "      <td>Morning</td>\n",
       "      <td>one</td>\n",
       "      <td>Evening</td>\n",
       "      <td>Hyderabad</td>\n",
       "      <td>Business</td>\n",
       "      <td>10.08</td>\n",
       "      <td>49</td>\n",
       "      <td>69265</td>\n",
       "    </tr>\n",
       "    <tr>\n",
       "      <th>300149</th>\n",
       "      <td>300149</td>\n",
       "      <td>Vistara</td>\n",
       "      <td>UK-826</td>\n",
       "      <td>Chennai</td>\n",
       "      <td>Afternoon</td>\n",
       "      <td>one</td>\n",
       "      <td>Night</td>\n",
       "      <td>Hyderabad</td>\n",
       "      <td>Business</td>\n",
       "      <td>10.42</td>\n",
       "      <td>49</td>\n",
       "      <td>77105</td>\n",
       "    </tr>\n",
       "    <tr>\n",
       "      <th>300150</th>\n",
       "      <td>300150</td>\n",
       "      <td>Vistara</td>\n",
       "      <td>UK-832</td>\n",
       "      <td>Chennai</td>\n",
       "      <td>Early_Morning</td>\n",
       "      <td>one</td>\n",
       "      <td>Night</td>\n",
       "      <td>Hyderabad</td>\n",
       "      <td>Business</td>\n",
       "      <td>13.83</td>\n",
       "      <td>49</td>\n",
       "      <td>79099</td>\n",
       "    </tr>\n",
       "    <tr>\n",
       "      <th>300151</th>\n",
       "      <td>300151</td>\n",
       "      <td>Vistara</td>\n",
       "      <td>UK-828</td>\n",
       "      <td>Chennai</td>\n",
       "      <td>Early_Morning</td>\n",
       "      <td>one</td>\n",
       "      <td>Evening</td>\n",
       "      <td>Hyderabad</td>\n",
       "      <td>Business</td>\n",
       "      <td>10.00</td>\n",
       "      <td>49</td>\n",
       "      <td>81585</td>\n",
       "    </tr>\n",
       "    <tr>\n",
       "      <th>300152</th>\n",
       "      <td>300152</td>\n",
       "      <td>Vistara</td>\n",
       "      <td>UK-822</td>\n",
       "      <td>Chennai</td>\n",
       "      <td>Morning</td>\n",
       "      <td>one</td>\n",
       "      <td>Evening</td>\n",
       "      <td>Hyderabad</td>\n",
       "      <td>Business</td>\n",
       "      <td>10.08</td>\n",
       "      <td>49</td>\n",
       "      <td>81585</td>\n",
       "    </tr>\n",
       "  </tbody>\n",
       "</table>\n",
       "<p>300153 rows × 12 columns</p>\n",
       "</div>"
      ],
      "text/plain": [
       "        Unnamed: 0   airline   flight source_city departure_time stops  \\\n",
       "0                0  SpiceJet  SG-8709       Delhi        Evening  zero   \n",
       "1                1  SpiceJet  SG-8157       Delhi  Early_Morning  zero   \n",
       "2                2   AirAsia   I5-764       Delhi  Early_Morning  zero   \n",
       "3                3   Vistara   UK-995       Delhi        Morning  zero   \n",
       "4                4   Vistara   UK-963       Delhi        Morning  zero   \n",
       "...            ...       ...      ...         ...            ...   ...   \n",
       "300148      300148   Vistara   UK-822     Chennai        Morning   one   \n",
       "300149      300149   Vistara   UK-826     Chennai      Afternoon   one   \n",
       "300150      300150   Vistara   UK-832     Chennai  Early_Morning   one   \n",
       "300151      300151   Vistara   UK-828     Chennai  Early_Morning   one   \n",
       "300152      300152   Vistara   UK-822     Chennai        Morning   one   \n",
       "\n",
       "         arrival_time destination_city     class  duration  days_left  price  \n",
       "0               Night           Mumbai   Economy      2.17          1   5953  \n",
       "1             Morning           Mumbai   Economy      2.33          1   5953  \n",
       "2       Early_Morning           Mumbai   Economy      2.17          1   5956  \n",
       "3           Afternoon           Mumbai   Economy      2.25          1   5955  \n",
       "4             Morning           Mumbai   Economy      2.33          1   5955  \n",
       "...               ...              ...       ...       ...        ...    ...  \n",
       "300148        Evening        Hyderabad  Business     10.08         49  69265  \n",
       "300149          Night        Hyderabad  Business     10.42         49  77105  \n",
       "300150          Night        Hyderabad  Business     13.83         49  79099  \n",
       "300151        Evening        Hyderabad  Business     10.00         49  81585  \n",
       "300152        Evening        Hyderabad  Business     10.08         49  81585  \n",
       "\n",
       "[300153 rows x 12 columns]"
      ]
     },
     "execution_count": 6,
     "metadata": {},
     "output_type": "execute_result"
    }
   ],
   "source": [
    "df"
   ]
  },
  {
   "cell_type": "code",
   "execution_count": 7,
   "id": "1a8f3137",
   "metadata": {
    "execution": {
     "iopub.execute_input": "2023-08-06T19:26:06.046020Z",
     "iopub.status.busy": "2023-08-06T19:26:06.044778Z",
     "iopub.status.idle": "2023-08-06T19:26:06.090166Z",
     "shell.execute_reply": "2023-08-06T19:26:06.088494Z"
    },
    "papermill": {
     "duration": 0.072552,
     "end_time": "2023-08-06T19:26:06.093290",
     "exception": false,
     "start_time": "2023-08-06T19:26:06.020738",
     "status": "completed"
    },
    "tags": []
   },
   "outputs": [],
   "source": [
    "df=df.drop(\"Unnamed: 0\", axis = 1)"
   ]
  },
  {
   "cell_type": "markdown",
   "id": "9277dc50",
   "metadata": {
    "papermill": {
     "duration": 0.023021,
     "end_time": "2023-08-06T19:26:06.139583",
     "exception": false,
     "start_time": "2023-08-06T19:26:06.116562",
     "status": "completed"
    },
    "tags": []
   },
   "source": [
    "## Information from data"
   ]
  },
  {
   "cell_type": "code",
   "execution_count": 8,
   "id": "ff9f20c4",
   "metadata": {
    "execution": {
     "iopub.execute_input": "2023-08-06T19:26:06.187066Z",
     "iopub.status.busy": "2023-08-06T19:26:06.185756Z",
     "iopub.status.idle": "2023-08-06T19:26:06.610520Z",
     "shell.execute_reply": "2023-08-06T19:26:06.608819Z"
    },
    "papermill": {
     "duration": 0.451693,
     "end_time": "2023-08-06T19:26:06.613232",
     "exception": false,
     "start_time": "2023-08-06T19:26:06.161539",
     "status": "completed"
    },
    "tags": []
   },
   "outputs": [
    {
     "name": "stdout",
     "output_type": "stream",
     "text": [
      "\n",
      "for column :  airline \n",
      "\n",
      "Vistara      127859\n",
      "Air_India     80892\n",
      "Indigo        43120\n",
      "GO_FIRST      23173\n",
      "AirAsia       16098\n",
      "SpiceJet       9011\n",
      "Name: airline, dtype: int64\n",
      "\n",
      "for column :  flight \n",
      "\n",
      "UK-706     3235\n",
      "UK-772     2741\n",
      "UK-720     2650\n",
      "UK-836     2542\n",
      "UK-822     2468\n",
      "           ... \n",
      "SG-9923       1\n",
      "6E-6474       1\n",
      "6E-865        1\n",
      "G8-705        1\n",
      "G8-107        1\n",
      "Name: flight, Length: 1561, dtype: int64\n",
      "\n",
      "for column :  source_city \n",
      "\n",
      "Delhi        61343\n",
      "Mumbai       60896\n",
      "Bangalore    52061\n",
      "Kolkata      46347\n",
      "Hyderabad    40806\n",
      "Chennai      38700\n",
      "Name: source_city, dtype: int64\n",
      "\n",
      "for column :  departure_time \n",
      "\n",
      "Morning          71146\n",
      "Early_Morning    66790\n",
      "Evening          65102\n",
      "Night            48015\n",
      "Afternoon        47794\n",
      "Late_Night        1306\n",
      "Name: departure_time, dtype: int64\n",
      "\n",
      "for column :  stops \n",
      "\n",
      "one            250863\n",
      "zero            36004\n",
      "two_or_more     13286\n",
      "Name: stops, dtype: int64\n",
      "\n",
      "for column :  arrival_time \n",
      "\n",
      "Night            91538\n",
      "Evening          78323\n",
      "Morning          62735\n",
      "Afternoon        38139\n",
      "Early_Morning    15417\n",
      "Late_Night       14001\n",
      "Name: arrival_time, dtype: int64\n",
      "\n",
      "for column :  destination_city \n",
      "\n",
      "Mumbai       59097\n",
      "Delhi        57360\n",
      "Bangalore    51068\n",
      "Kolkata      49534\n",
      "Hyderabad    42726\n",
      "Chennai      40368\n",
      "Name: destination_city, dtype: int64\n",
      "\n",
      "for column :  class \n",
      "\n",
      "Economy     206666\n",
      "Business     93487\n",
      "Name: class, dtype: int64\n",
      "\n",
      "for column :  duration \n",
      "\n",
      "2.17     4242\n",
      "2.25     4036\n",
      "2.75     2879\n",
      "2.08     2755\n",
      "2.83     2323\n",
      "         ... \n",
      "37.17       1\n",
      "38.75       1\n",
      "38.50       1\n",
      "36.25       1\n",
      "41.50       1\n",
      "Name: duration, Length: 476, dtype: int64\n",
      "\n",
      "for column :  days_left \n",
      "\n",
      "25    6633\n",
      "18    6602\n",
      "39    6593\n",
      "32    6585\n",
      "26    6573\n",
      "24    6542\n",
      "19    6537\n",
      "31    6534\n",
      "33    6532\n",
      "40    6531\n",
      "41    6525\n",
      "28    6522\n",
      "38    6512\n",
      "20    6502\n",
      "30    6501\n",
      "42    6497\n",
      "22    6494\n",
      "36    6490\n",
      "21    6479\n",
      "37    6476\n",
      "43    6472\n",
      "44    6436\n",
      "17    6419\n",
      "11    6417\n",
      "34    6412\n",
      "13    6404\n",
      "23    6401\n",
      "29    6397\n",
      "12    6381\n",
      "27    6360\n",
      "14    6349\n",
      "15    6340\n",
      "45    6314\n",
      "35    6291\n",
      "16    6272\n",
      "46    6160\n",
      "49    6154\n",
      "48    6078\n",
      "47    6069\n",
      "10    5822\n",
      "8     5767\n",
      "6     5740\n",
      "7     5703\n",
      "9     5665\n",
      "5     5392\n",
      "4     5077\n",
      "3     4248\n",
      "2     4026\n",
      "1     1927\n",
      "Name: days_left, dtype: int64\n",
      "\n",
      "for column :  price \n",
      "\n",
      "54608    1445\n",
      "2339     1442\n",
      "54684    1390\n",
      "60978    1383\n",
      "60508    1230\n",
      "         ... \n",
      "12014       1\n",
      "26912       1\n",
      "20145       1\n",
      "25462       1\n",
      "7533        1\n",
      "Name: price, Length: 12157, dtype: int64\n"
     ]
    }
   ],
   "source": [
    "for col in list(df.columns):\n",
    "    print(\"\\nfor column : \", col,\"\\n\")\n",
    "    print(df[col].value_counts())"
   ]
  },
  {
   "cell_type": "code",
   "execution_count": 9,
   "id": "f87f5950",
   "metadata": {
    "execution": {
     "iopub.execute_input": "2023-08-06T19:26:06.662898Z",
     "iopub.status.busy": "2023-08-06T19:26:06.661841Z",
     "iopub.status.idle": "2023-08-06T19:26:06.696764Z",
     "shell.execute_reply": "2023-08-06T19:26:06.695523Z"
    },
    "papermill": {
     "duration": 0.061907,
     "end_time": "2023-08-06T19:26:06.699461",
     "exception": false,
     "start_time": "2023-08-06T19:26:06.637554",
     "status": "completed"
    },
    "tags": []
   },
   "outputs": [
    {
     "data": {
      "text/html": [
       "<div>\n",
       "<style scoped>\n",
       "    .dataframe tbody tr th:only-of-type {\n",
       "        vertical-align: middle;\n",
       "    }\n",
       "\n",
       "    .dataframe tbody tr th {\n",
       "        vertical-align: top;\n",
       "    }\n",
       "\n",
       "    .dataframe thead th {\n",
       "        text-align: right;\n",
       "    }\n",
       "</style>\n",
       "<table border=\"1\" class=\"dataframe\">\n",
       "  <thead>\n",
       "    <tr style=\"text-align: right;\">\n",
       "      <th></th>\n",
       "      <th>airline</th>\n",
       "    </tr>\n",
       "  </thead>\n",
       "  <tbody>\n",
       "    <tr>\n",
       "      <th>0</th>\n",
       "      <td>SpiceJet</td>\n",
       "    </tr>\n",
       "    <tr>\n",
       "      <th>2</th>\n",
       "      <td>AirAsia</td>\n",
       "    </tr>\n",
       "    <tr>\n",
       "      <th>3</th>\n",
       "      <td>Vistara</td>\n",
       "    </tr>\n",
       "    <tr>\n",
       "      <th>8</th>\n",
       "      <td>GO_FIRST</td>\n",
       "    </tr>\n",
       "    <tr>\n",
       "      <th>12</th>\n",
       "      <td>Indigo</td>\n",
       "    </tr>\n",
       "    <tr>\n",
       "      <th>16</th>\n",
       "      <td>Air_India</td>\n",
       "    </tr>\n",
       "  </tbody>\n",
       "</table>\n",
       "</div>"
      ],
      "text/plain": [
       "      airline\n",
       "0    SpiceJet\n",
       "2     AirAsia\n",
       "3     Vistara\n",
       "8    GO_FIRST\n",
       "12     Indigo\n",
       "16  Air_India"
      ]
     },
     "execution_count": 9,
     "metadata": {},
     "output_type": "execute_result"
    }
   ],
   "source": [
    "z=pd.DataFrame(df[\"airline\"]).drop_duplicates('airline')\n",
    "z"
   ]
  },
  {
   "cell_type": "code",
   "execution_count": 10,
   "id": "874ab5df",
   "metadata": {
    "execution": {
     "iopub.execute_input": "2023-08-06T19:26:06.753419Z",
     "iopub.status.busy": "2023-08-06T19:26:06.752815Z",
     "iopub.status.idle": "2023-08-06T19:26:06.794156Z",
     "shell.execute_reply": "2023-08-06T19:26:06.793099Z"
    },
    "papermill": {
     "duration": 0.073905,
     "end_time": "2023-08-06T19:26:06.796730",
     "exception": false,
     "start_time": "2023-08-06T19:26:06.722825",
     "status": "completed"
    },
    "tags": []
   },
   "outputs": [
    {
     "data": {
      "text/html": [
       "<div>\n",
       "<style scoped>\n",
       "    .dataframe tbody tr th:only-of-type {\n",
       "        vertical-align: middle;\n",
       "    }\n",
       "\n",
       "    .dataframe tbody tr th {\n",
       "        vertical-align: top;\n",
       "    }\n",
       "\n",
       "    .dataframe thead th {\n",
       "        text-align: right;\n",
       "    }\n",
       "</style>\n",
       "<table border=\"1\" class=\"dataframe\">\n",
       "  <thead>\n",
       "    <tr style=\"text-align: right;\">\n",
       "      <th></th>\n",
       "      <th>flight</th>\n",
       "    </tr>\n",
       "  </thead>\n",
       "  <tbody>\n",
       "    <tr>\n",
       "      <th>0</th>\n",
       "      <td>SG-8709</td>\n",
       "    </tr>\n",
       "    <tr>\n",
       "      <th>1</th>\n",
       "      <td>SG-8157</td>\n",
       "    </tr>\n",
       "    <tr>\n",
       "      <th>2</th>\n",
       "      <td>I5-764</td>\n",
       "    </tr>\n",
       "    <tr>\n",
       "      <th>3</th>\n",
       "      <td>UK-995</td>\n",
       "    </tr>\n",
       "    <tr>\n",
       "      <th>4</th>\n",
       "      <td>UK-963</td>\n",
       "    </tr>\n",
       "    <tr>\n",
       "      <th>...</th>\n",
       "      <td>...</td>\n",
       "    </tr>\n",
       "    <tr>\n",
       "      <th>206278</th>\n",
       "      <td>6E-7141</td>\n",
       "    </tr>\n",
       "    <tr>\n",
       "      <th>206279</th>\n",
       "      <td>6E-557</td>\n",
       "    </tr>\n",
       "    <tr>\n",
       "      <th>206345</th>\n",
       "      <td>6E-7127</td>\n",
       "    </tr>\n",
       "    <tr>\n",
       "      <th>206358</th>\n",
       "      <td>6E-7259</td>\n",
       "    </tr>\n",
       "    <tr>\n",
       "      <th>211488</th>\n",
       "      <td>AI-433</td>\n",
       "    </tr>\n",
       "  </tbody>\n",
       "</table>\n",
       "<p>1561 rows × 1 columns</p>\n",
       "</div>"
      ],
      "text/plain": [
       "         flight\n",
       "0       SG-8709\n",
       "1       SG-8157\n",
       "2        I5-764\n",
       "3        UK-995\n",
       "4        UK-963\n",
       "...         ...\n",
       "206278  6E-7141\n",
       "206279   6E-557\n",
       "206345  6E-7127\n",
       "206358  6E-7259\n",
       "211488   AI-433\n",
       "\n",
       "[1561 rows x 1 columns]"
      ]
     },
     "execution_count": 10,
     "metadata": {},
     "output_type": "execute_result"
    }
   ],
   "source": [
    "pd.DataFrame(df[\"flight\"]).drop_duplicates('flight')"
   ]
  },
  {
   "cell_type": "code",
   "execution_count": 11,
   "id": "c24ae9e9",
   "metadata": {
    "execution": {
     "iopub.execute_input": "2023-08-06T19:26:06.850089Z",
     "iopub.status.busy": "2023-08-06T19:26:06.849681Z",
     "iopub.status.idle": "2023-08-06T19:26:06.889401Z",
     "shell.execute_reply": "2023-08-06T19:26:06.887853Z"
    },
    "papermill": {
     "duration": 0.070676,
     "end_time": "2023-08-06T19:26:06.893307",
     "exception": false,
     "start_time": "2023-08-06T19:26:06.822631",
     "status": "completed"
    },
    "tags": []
   },
   "outputs": [
    {
     "data": {
      "text/html": [
       "<div>\n",
       "<style scoped>\n",
       "    .dataframe tbody tr th:only-of-type {\n",
       "        vertical-align: middle;\n",
       "    }\n",
       "\n",
       "    .dataframe tbody tr th {\n",
       "        vertical-align: top;\n",
       "    }\n",
       "\n",
       "    .dataframe thead th {\n",
       "        text-align: right;\n",
       "    }\n",
       "</style>\n",
       "<table border=\"1\" class=\"dataframe\">\n",
       "  <thead>\n",
       "    <tr style=\"text-align: right;\">\n",
       "      <th></th>\n",
       "      <th>source_city</th>\n",
       "    </tr>\n",
       "  </thead>\n",
       "  <tbody>\n",
       "    <tr>\n",
       "      <th>0</th>\n",
       "      <td>Delhi</td>\n",
       "    </tr>\n",
       "    <tr>\n",
       "      <th>43027</th>\n",
       "      <td>Mumbai</td>\n",
       "    </tr>\n",
       "    <tr>\n",
       "      <th>84065</th>\n",
       "      <td>Bangalore</td>\n",
       "    </tr>\n",
       "    <tr>\n",
       "      <th>119685</th>\n",
       "      <td>Kolkata</td>\n",
       "    </tr>\n",
       "    <tr>\n",
       "      <th>152559</th>\n",
       "      <td>Hyderabad</td>\n",
       "    </tr>\n",
       "    <tr>\n",
       "      <th>180495</th>\n",
       "      <td>Chennai</td>\n",
       "    </tr>\n",
       "  </tbody>\n",
       "</table>\n",
       "</div>"
      ],
      "text/plain": [
       "       source_city\n",
       "0            Delhi\n",
       "43027       Mumbai\n",
       "84065    Bangalore\n",
       "119685     Kolkata\n",
       "152559   Hyderabad\n",
       "180495     Chennai"
      ]
     },
     "execution_count": 11,
     "metadata": {},
     "output_type": "execute_result"
    }
   ],
   "source": [
    "pd.DataFrame(df[\"source_city\"]).drop_duplicates('source_city')"
   ]
  },
  {
   "cell_type": "code",
   "execution_count": 12,
   "id": "1180f6bb",
   "metadata": {
    "execution": {
     "iopub.execute_input": "2023-08-06T19:26:06.947022Z",
     "iopub.status.busy": "2023-08-06T19:26:06.945973Z",
     "iopub.status.idle": "2023-08-06T19:26:06.979387Z",
     "shell.execute_reply": "2023-08-06T19:26:06.978155Z"
    },
    "papermill": {
     "duration": 0.060243,
     "end_time": "2023-08-06T19:26:06.982036",
     "exception": false,
     "start_time": "2023-08-06T19:26:06.921793",
     "status": "completed"
    },
    "tags": []
   },
   "outputs": [
    {
     "data": {
      "text/html": [
       "<div>\n",
       "<style scoped>\n",
       "    .dataframe tbody tr th:only-of-type {\n",
       "        vertical-align: middle;\n",
       "    }\n",
       "\n",
       "    .dataframe tbody tr th {\n",
       "        vertical-align: top;\n",
       "    }\n",
       "\n",
       "    .dataframe thead th {\n",
       "        text-align: right;\n",
       "    }\n",
       "</style>\n",
       "<table border=\"1\" class=\"dataframe\">\n",
       "  <thead>\n",
       "    <tr style=\"text-align: right;\">\n",
       "      <th></th>\n",
       "      <th>stops</th>\n",
       "    </tr>\n",
       "  </thead>\n",
       "  <tbody>\n",
       "    <tr>\n",
       "      <th>0</th>\n",
       "      <td>zero</td>\n",
       "    </tr>\n",
       "    <tr>\n",
       "      <th>18</th>\n",
       "      <td>one</td>\n",
       "    </tr>\n",
       "    <tr>\n",
       "      <th>175</th>\n",
       "      <td>two_or_more</td>\n",
       "    </tr>\n",
       "  </tbody>\n",
       "</table>\n",
       "</div>"
      ],
      "text/plain": [
       "           stops\n",
       "0           zero\n",
       "18           one\n",
       "175  two_or_more"
      ]
     },
     "execution_count": 12,
     "metadata": {},
     "output_type": "execute_result"
    }
   ],
   "source": [
    "pd.DataFrame(df[\"stops\"]).drop_duplicates('stops')"
   ]
  },
  {
   "cell_type": "code",
   "execution_count": 13,
   "id": "fec7b46f",
   "metadata": {
    "execution": {
     "iopub.execute_input": "2023-08-06T19:26:07.034304Z",
     "iopub.status.busy": "2023-08-06T19:26:07.033444Z",
     "iopub.status.idle": "2023-08-06T19:26:07.068589Z",
     "shell.execute_reply": "2023-08-06T19:26:07.067399Z"
    },
    "papermill": {
     "duration": 0.065922,
     "end_time": "2023-08-06T19:26:07.071492",
     "exception": false,
     "start_time": "2023-08-06T19:26:07.005570",
     "status": "completed"
    },
    "tags": []
   },
   "outputs": [
    {
     "data": {
      "text/html": [
       "<div>\n",
       "<style scoped>\n",
       "    .dataframe tbody tr th:only-of-type {\n",
       "        vertical-align: middle;\n",
       "    }\n",
       "\n",
       "    .dataframe tbody tr th {\n",
       "        vertical-align: top;\n",
       "    }\n",
       "\n",
       "    .dataframe thead th {\n",
       "        text-align: right;\n",
       "    }\n",
       "</style>\n",
       "<table border=\"1\" class=\"dataframe\">\n",
       "  <thead>\n",
       "    <tr style=\"text-align: right;\">\n",
       "      <th></th>\n",
       "      <th>departure_time</th>\n",
       "    </tr>\n",
       "  </thead>\n",
       "  <tbody>\n",
       "    <tr>\n",
       "      <th>0</th>\n",
       "      <td>Evening</td>\n",
       "    </tr>\n",
       "    <tr>\n",
       "      <th>1</th>\n",
       "      <td>Early_Morning</td>\n",
       "    </tr>\n",
       "    <tr>\n",
       "      <th>3</th>\n",
       "      <td>Morning</td>\n",
       "    </tr>\n",
       "    <tr>\n",
       "      <th>7</th>\n",
       "      <td>Afternoon</td>\n",
       "    </tr>\n",
       "    <tr>\n",
       "      <th>40</th>\n",
       "      <td>Night</td>\n",
       "    </tr>\n",
       "    <tr>\n",
       "      <th>1671</th>\n",
       "      <td>Late_Night</td>\n",
       "    </tr>\n",
       "  </tbody>\n",
       "</table>\n",
       "</div>"
      ],
      "text/plain": [
       "     departure_time\n",
       "0           Evening\n",
       "1     Early_Morning\n",
       "3           Morning\n",
       "7         Afternoon\n",
       "40            Night\n",
       "1671     Late_Night"
      ]
     },
     "execution_count": 13,
     "metadata": {},
     "output_type": "execute_result"
    }
   ],
   "source": [
    "pd.DataFrame(df[\"departure_time\"]).drop_duplicates('departure_time')"
   ]
  },
  {
   "cell_type": "code",
   "execution_count": 14,
   "id": "dff5414a",
   "metadata": {
    "execution": {
     "iopub.execute_input": "2023-08-06T19:26:07.121860Z",
     "iopub.status.busy": "2023-08-06T19:26:07.121404Z",
     "iopub.status.idle": "2023-08-06T19:26:07.140769Z",
     "shell.execute_reply": "2023-08-06T19:26:07.139304Z"
    },
    "papermill": {
     "duration": 0.048048,
     "end_time": "2023-08-06T19:26:07.143425",
     "exception": false,
     "start_time": "2023-08-06T19:26:07.095377",
     "status": "completed"
    },
    "tags": []
   },
   "outputs": [
    {
     "data": {
      "text/html": [
       "<div>\n",
       "<style scoped>\n",
       "    .dataframe tbody tr th:only-of-type {\n",
       "        vertical-align: middle;\n",
       "    }\n",
       "\n",
       "    .dataframe tbody tr th {\n",
       "        vertical-align: top;\n",
       "    }\n",
       "\n",
       "    .dataframe thead th {\n",
       "        text-align: right;\n",
       "    }\n",
       "</style>\n",
       "<table border=\"1\" class=\"dataframe\">\n",
       "  <thead>\n",
       "    <tr style=\"text-align: right;\">\n",
       "      <th></th>\n",
       "      <th>days_left</th>\n",
       "    </tr>\n",
       "  </thead>\n",
       "  <tbody>\n",
       "    <tr>\n",
       "      <th>0</th>\n",
       "      <td>1</td>\n",
       "    </tr>\n",
       "    <tr>\n",
       "      <th>118</th>\n",
       "      <td>2</td>\n",
       "    </tr>\n",
       "    <tr>\n",
       "      <th>251</th>\n",
       "      <td>3</td>\n",
       "    </tr>\n",
       "    <tr>\n",
       "      <th>398</th>\n",
       "      <td>4</td>\n",
       "    </tr>\n",
       "    <tr>\n",
       "      <th>563</th>\n",
       "      <td>5</td>\n",
       "    </tr>\n",
       "    <tr>\n",
       "      <th>738</th>\n",
       "      <td>6</td>\n",
       "    </tr>\n",
       "    <tr>\n",
       "      <th>919</th>\n",
       "      <td>7</td>\n",
       "    </tr>\n",
       "    <tr>\n",
       "      <th>1104</th>\n",
       "      <td>8</td>\n",
       "    </tr>\n",
       "    <tr>\n",
       "      <th>1286</th>\n",
       "      <td>9</td>\n",
       "    </tr>\n",
       "    <tr>\n",
       "      <th>1462</th>\n",
       "      <td>10</td>\n",
       "    </tr>\n",
       "    <tr>\n",
       "      <th>1644</th>\n",
       "      <td>11</td>\n",
       "    </tr>\n",
       "    <tr>\n",
       "      <th>1858</th>\n",
       "      <td>12</td>\n",
       "    </tr>\n",
       "    <tr>\n",
       "      <th>2077</th>\n",
       "      <td>13</td>\n",
       "    </tr>\n",
       "    <tr>\n",
       "      <th>2292</th>\n",
       "      <td>14</td>\n",
       "    </tr>\n",
       "    <tr>\n",
       "      <th>2504</th>\n",
       "      <td>15</td>\n",
       "    </tr>\n",
       "    <tr>\n",
       "      <th>2717</th>\n",
       "      <td>16</td>\n",
       "    </tr>\n",
       "    <tr>\n",
       "      <th>2927</th>\n",
       "      <td>17</td>\n",
       "    </tr>\n",
       "    <tr>\n",
       "      <th>3138</th>\n",
       "      <td>18</td>\n",
       "    </tr>\n",
       "    <tr>\n",
       "      <th>3358</th>\n",
       "      <td>19</td>\n",
       "    </tr>\n",
       "    <tr>\n",
       "      <th>3575</th>\n",
       "      <td>20</td>\n",
       "    </tr>\n",
       "    <tr>\n",
       "      <th>3790</th>\n",
       "      <td>21</td>\n",
       "    </tr>\n",
       "    <tr>\n",
       "      <th>4004</th>\n",
       "      <td>22</td>\n",
       "    </tr>\n",
       "    <tr>\n",
       "      <th>4221</th>\n",
       "      <td>23</td>\n",
       "    </tr>\n",
       "    <tr>\n",
       "      <th>4438</th>\n",
       "      <td>24</td>\n",
       "    </tr>\n",
       "    <tr>\n",
       "      <th>4660</th>\n",
       "      <td>25</td>\n",
       "    </tr>\n",
       "    <tr>\n",
       "      <th>4874</th>\n",
       "      <td>26</td>\n",
       "    </tr>\n",
       "    <tr>\n",
       "      <th>5091</th>\n",
       "      <td>27</td>\n",
       "    </tr>\n",
       "    <tr>\n",
       "      <th>5308</th>\n",
       "      <td>28</td>\n",
       "    </tr>\n",
       "    <tr>\n",
       "      <th>5524</th>\n",
       "      <td>29</td>\n",
       "    </tr>\n",
       "    <tr>\n",
       "      <th>5742</th>\n",
       "      <td>30</td>\n",
       "    </tr>\n",
       "    <tr>\n",
       "      <th>5961</th>\n",
       "      <td>31</td>\n",
       "    </tr>\n",
       "    <tr>\n",
       "      <th>6180</th>\n",
       "      <td>32</td>\n",
       "    </tr>\n",
       "    <tr>\n",
       "      <th>6390</th>\n",
       "      <td>33</td>\n",
       "    </tr>\n",
       "    <tr>\n",
       "      <th>6605</th>\n",
       "      <td>34</td>\n",
       "    </tr>\n",
       "    <tr>\n",
       "      <th>6815</th>\n",
       "      <td>35</td>\n",
       "    </tr>\n",
       "    <tr>\n",
       "      <th>7027</th>\n",
       "      <td>36</td>\n",
       "    </tr>\n",
       "    <tr>\n",
       "      <th>7243</th>\n",
       "      <td>37</td>\n",
       "    </tr>\n",
       "    <tr>\n",
       "      <th>7462</th>\n",
       "      <td>38</td>\n",
       "    </tr>\n",
       "    <tr>\n",
       "      <th>7684</th>\n",
       "      <td>39</td>\n",
       "    </tr>\n",
       "    <tr>\n",
       "      <th>7894</th>\n",
       "      <td>40</td>\n",
       "    </tr>\n",
       "    <tr>\n",
       "      <th>8109</th>\n",
       "      <td>41</td>\n",
       "    </tr>\n",
       "    <tr>\n",
       "      <th>8322</th>\n",
       "      <td>42</td>\n",
       "    </tr>\n",
       "    <tr>\n",
       "      <th>8534</th>\n",
       "      <td>43</td>\n",
       "    </tr>\n",
       "    <tr>\n",
       "      <th>8750</th>\n",
       "      <td>44</td>\n",
       "    </tr>\n",
       "    <tr>\n",
       "      <th>8964</th>\n",
       "      <td>45</td>\n",
       "    </tr>\n",
       "    <tr>\n",
       "      <th>9169</th>\n",
       "      <td>46</td>\n",
       "    </tr>\n",
       "    <tr>\n",
       "      <th>9374</th>\n",
       "      <td>47</td>\n",
       "    </tr>\n",
       "    <tr>\n",
       "      <th>9579</th>\n",
       "      <td>48</td>\n",
       "    </tr>\n",
       "    <tr>\n",
       "      <th>9782</th>\n",
       "      <td>49</td>\n",
       "    </tr>\n",
       "  </tbody>\n",
       "</table>\n",
       "</div>"
      ],
      "text/plain": [
       "      days_left\n",
       "0             1\n",
       "118           2\n",
       "251           3\n",
       "398           4\n",
       "563           5\n",
       "738           6\n",
       "919           7\n",
       "1104          8\n",
       "1286          9\n",
       "1462         10\n",
       "1644         11\n",
       "1858         12\n",
       "2077         13\n",
       "2292         14\n",
       "2504         15\n",
       "2717         16\n",
       "2927         17\n",
       "3138         18\n",
       "3358         19\n",
       "3575         20\n",
       "3790         21\n",
       "4004         22\n",
       "4221         23\n",
       "4438         24\n",
       "4660         25\n",
       "4874         26\n",
       "5091         27\n",
       "5308         28\n",
       "5524         29\n",
       "5742         30\n",
       "5961         31\n",
       "6180         32\n",
       "6390         33\n",
       "6605         34\n",
       "6815         35\n",
       "7027         36\n",
       "7243         37\n",
       "7462         38\n",
       "7684         39\n",
       "7894         40\n",
       "8109         41\n",
       "8322         42\n",
       "8534         43\n",
       "8750         44\n",
       "8964         45\n",
       "9169         46\n",
       "9374         47\n",
       "9579         48\n",
       "9782         49"
      ]
     },
     "execution_count": 14,
     "metadata": {},
     "output_type": "execute_result"
    }
   ],
   "source": [
    "pd.DataFrame(df[\"days_left\"]).drop_duplicates('days_left')"
   ]
  },
  {
   "cell_type": "markdown",
   "id": "b4c65eb8",
   "metadata": {
    "papermill": {
     "duration": 0.02399,
     "end_time": "2023-08-06T19:26:07.192020",
     "exception": false,
     "start_time": "2023-08-06T19:26:07.168030",
     "status": "completed"
    },
    "tags": []
   },
   "source": [
    "### info to business_class"
   ]
  },
  {
   "cell_type": "code",
   "execution_count": 15,
   "id": "d922c698",
   "metadata": {
    "execution": {
     "iopub.execute_input": "2023-08-06T19:26:07.244028Z",
     "iopub.status.busy": "2023-08-06T19:26:07.242718Z",
     "iopub.status.idle": "2023-08-06T19:26:07.275071Z",
     "shell.execute_reply": "2023-08-06T19:26:07.273886Z"
    },
    "papermill": {
     "duration": 0.061135,
     "end_time": "2023-08-06T19:26:07.277484",
     "exception": false,
     "start_time": "2023-08-06T19:26:07.216349",
     "status": "completed"
    },
    "tags": []
   },
   "outputs": [
    {
     "data": {
      "text/html": [
       "<div>\n",
       "<style scoped>\n",
       "    .dataframe tbody tr th:only-of-type {\n",
       "        vertical-align: middle;\n",
       "    }\n",
       "\n",
       "    .dataframe tbody tr th {\n",
       "        vertical-align: top;\n",
       "    }\n",
       "\n",
       "    .dataframe thead th {\n",
       "        text-align: right;\n",
       "    }\n",
       "</style>\n",
       "<table border=\"1\" class=\"dataframe\">\n",
       "  <thead>\n",
       "    <tr style=\"text-align: right;\">\n",
       "      <th></th>\n",
       "      <th>class</th>\n",
       "    </tr>\n",
       "  </thead>\n",
       "  <tbody>\n",
       "    <tr>\n",
       "      <th>0</th>\n",
       "      <td>Economy</td>\n",
       "    </tr>\n",
       "    <tr>\n",
       "      <th>206666</th>\n",
       "      <td>Business</td>\n",
       "    </tr>\n",
       "  </tbody>\n",
       "</table>\n",
       "</div>"
      ],
      "text/plain": [
       "           class\n",
       "0        Economy\n",
       "206666  Business"
      ]
     },
     "execution_count": 15,
     "metadata": {},
     "output_type": "execute_result"
    }
   ],
   "source": [
    "pd.DataFrame(df[\"class\"]).drop_duplicates('class')"
   ]
  },
  {
   "cell_type": "code",
   "execution_count": 16,
   "id": "e2179ef4",
   "metadata": {
    "execution": {
     "iopub.execute_input": "2023-08-06T19:26:07.328384Z",
     "iopub.status.busy": "2023-08-06T19:26:07.327446Z",
     "iopub.status.idle": "2023-08-06T19:26:07.669792Z",
     "shell.execute_reply": "2023-08-06T19:26:07.668724Z"
    },
    "papermill": {
     "duration": 0.370981,
     "end_time": "2023-08-06T19:26:07.672538",
     "exception": false,
     "start_time": "2023-08-06T19:26:07.301557",
     "status": "completed"
    },
    "tags": []
   },
   "outputs": [],
   "source": [
    "bus=pd.read_csv(\"/kaggle/input/flight-price-prediction/business.csv\")"
   ]
  },
  {
   "cell_type": "code",
   "execution_count": 17,
   "id": "95e7aee7",
   "metadata": {
    "execution": {
     "iopub.execute_input": "2023-08-06T19:26:07.723889Z",
     "iopub.status.busy": "2023-08-06T19:26:07.723432Z",
     "iopub.status.idle": "2023-08-06T19:26:08.044236Z",
     "shell.execute_reply": "2023-08-06T19:26:08.041859Z"
    },
    "papermill": {
     "duration": 0.350225,
     "end_time": "2023-08-06T19:26:08.047203",
     "exception": false,
     "start_time": "2023-08-06T19:26:07.696978",
     "status": "completed"
    },
    "tags": []
   },
   "outputs": [
    {
     "name": "stdout",
     "output_type": "stream",
     "text": [
      "<class 'pandas.core.frame.DataFrame'>\n",
      "RangeIndex: 93487 entries, 0 to 93486\n",
      "Data columns (total 11 columns):\n",
      " #   Column      Non-Null Count  Dtype \n",
      "---  ------      --------------  ----- \n",
      " 0   date        93487 non-null  object\n",
      " 1   airline     93487 non-null  object\n",
      " 2   ch_code     93487 non-null  object\n",
      " 3   num_code    93487 non-null  int64 \n",
      " 4   dep_time    93487 non-null  object\n",
      " 5   from        93487 non-null  object\n",
      " 6   time_taken  93487 non-null  object\n",
      " 7   stop        93487 non-null  object\n",
      " 8   arr_time    93487 non-null  object\n",
      " 9   to          93487 non-null  object\n",
      " 10  price       93487 non-null  object\n",
      "dtypes: int64(1), object(10)\n",
      "memory usage: 7.8+ MB\n"
     ]
    }
   ],
   "source": [
    "bus.info()"
   ]
  },
  {
   "cell_type": "code",
   "execution_count": 18,
   "id": "0f70f16e",
   "metadata": {
    "execution": {
     "iopub.execute_input": "2023-08-06T19:26:08.101295Z",
     "iopub.status.busy": "2023-08-06T19:26:08.100864Z",
     "iopub.status.idle": "2023-08-06T19:26:08.118482Z",
     "shell.execute_reply": "2023-08-06T19:26:08.117223Z"
    },
    "papermill": {
     "duration": 0.048517,
     "end_time": "2023-08-06T19:26:08.121262",
     "exception": false,
     "start_time": "2023-08-06T19:26:08.072745",
     "status": "completed"
    },
    "tags": []
   },
   "outputs": [
    {
     "data": {
      "text/html": [
       "<div>\n",
       "<style scoped>\n",
       "    .dataframe tbody tr th:only-of-type {\n",
       "        vertical-align: middle;\n",
       "    }\n",
       "\n",
       "    .dataframe tbody tr th {\n",
       "        vertical-align: top;\n",
       "    }\n",
       "\n",
       "    .dataframe thead th {\n",
       "        text-align: right;\n",
       "    }\n",
       "</style>\n",
       "<table border=\"1\" class=\"dataframe\">\n",
       "  <thead>\n",
       "    <tr style=\"text-align: right;\">\n",
       "      <th></th>\n",
       "      <th>date</th>\n",
       "      <th>airline</th>\n",
       "      <th>ch_code</th>\n",
       "      <th>num_code</th>\n",
       "      <th>dep_time</th>\n",
       "      <th>from</th>\n",
       "      <th>time_taken</th>\n",
       "      <th>stop</th>\n",
       "      <th>arr_time</th>\n",
       "      <th>to</th>\n",
       "      <th>price</th>\n",
       "    </tr>\n",
       "  </thead>\n",
       "  <tbody>\n",
       "    <tr>\n",
       "      <th>0</th>\n",
       "      <td>11-02-2022</td>\n",
       "      <td>Air India</td>\n",
       "      <td>AI</td>\n",
       "      <td>868</td>\n",
       "      <td>18:00</td>\n",
       "      <td>Delhi</td>\n",
       "      <td>02h 00m</td>\n",
       "      <td>non-stop</td>\n",
       "      <td>20:00</td>\n",
       "      <td>Mumbai</td>\n",
       "      <td>25,612</td>\n",
       "    </tr>\n",
       "    <tr>\n",
       "      <th>1</th>\n",
       "      <td>11-02-2022</td>\n",
       "      <td>Air India</td>\n",
       "      <td>AI</td>\n",
       "      <td>624</td>\n",
       "      <td>19:00</td>\n",
       "      <td>Delhi</td>\n",
       "      <td>02h 15m</td>\n",
       "      <td>non-stop</td>\n",
       "      <td>21:15</td>\n",
       "      <td>Mumbai</td>\n",
       "      <td>25,612</td>\n",
       "    </tr>\n",
       "    <tr>\n",
       "      <th>2</th>\n",
       "      <td>11-02-2022</td>\n",
       "      <td>Air India</td>\n",
       "      <td>AI</td>\n",
       "      <td>531</td>\n",
       "      <td>20:00</td>\n",
       "      <td>Delhi</td>\n",
       "      <td>24h 45m</td>\n",
       "      <td>1-stop\\n\\t\\t\\t\\t\\t\\t\\t\\t\\t\\t\\t\\t\\n\\t\\t\\t\\t\\t\\t...</td>\n",
       "      <td>20:45</td>\n",
       "      <td>Mumbai</td>\n",
       "      <td>42,220</td>\n",
       "    </tr>\n",
       "    <tr>\n",
       "      <th>3</th>\n",
       "      <td>11-02-2022</td>\n",
       "      <td>Air India</td>\n",
       "      <td>AI</td>\n",
       "      <td>839</td>\n",
       "      <td>21:25</td>\n",
       "      <td>Delhi</td>\n",
       "      <td>26h 30m</td>\n",
       "      <td>1-stop\\n\\t\\t\\t\\t\\t\\t\\t\\t\\t\\t\\t\\t\\n\\t\\t\\t\\t\\t\\t...</td>\n",
       "      <td>23:55</td>\n",
       "      <td>Mumbai</td>\n",
       "      <td>44,450</td>\n",
       "    </tr>\n",
       "    <tr>\n",
       "      <th>4</th>\n",
       "      <td>11-02-2022</td>\n",
       "      <td>Air India</td>\n",
       "      <td>AI</td>\n",
       "      <td>544</td>\n",
       "      <td>17:15</td>\n",
       "      <td>Delhi</td>\n",
       "      <td>06h 40m</td>\n",
       "      <td>1-stop\\n\\t\\t\\t\\t\\t\\t\\t\\t\\t\\t\\t\\t\\n\\t\\t\\t\\t\\t\\t...</td>\n",
       "      <td>23:55</td>\n",
       "      <td>Mumbai</td>\n",
       "      <td>46,690</td>\n",
       "    </tr>\n",
       "  </tbody>\n",
       "</table>\n",
       "</div>"
      ],
      "text/plain": [
       "         date    airline ch_code  num_code dep_time   from time_taken  \\\n",
       "0  11-02-2022  Air India      AI       868    18:00  Delhi    02h 00m   \n",
       "1  11-02-2022  Air India      AI       624    19:00  Delhi    02h 15m   \n",
       "2  11-02-2022  Air India      AI       531    20:00  Delhi    24h 45m   \n",
       "3  11-02-2022  Air India      AI       839    21:25  Delhi    26h 30m   \n",
       "4  11-02-2022  Air India      AI       544    17:15  Delhi    06h 40m   \n",
       "\n",
       "                                                stop arr_time      to   price  \n",
       "0                                          non-stop     20:00  Mumbai  25,612  \n",
       "1                                          non-stop     21:15  Mumbai  25,612  \n",
       "2  1-stop\\n\\t\\t\\t\\t\\t\\t\\t\\t\\t\\t\\t\\t\\n\\t\\t\\t\\t\\t\\t...    20:45  Mumbai  42,220  \n",
       "3  1-stop\\n\\t\\t\\t\\t\\t\\t\\t\\t\\t\\t\\t\\t\\n\\t\\t\\t\\t\\t\\t...    23:55  Mumbai  44,450  \n",
       "4  1-stop\\n\\t\\t\\t\\t\\t\\t\\t\\t\\t\\t\\t\\t\\n\\t\\t\\t\\t\\t\\t...    23:55  Mumbai  46,690  "
      ]
     },
     "execution_count": 18,
     "metadata": {},
     "output_type": "execute_result"
    }
   ],
   "source": [
    "bus.head()"
   ]
  },
  {
   "cell_type": "code",
   "execution_count": 19,
   "id": "7c81ca1a",
   "metadata": {
    "execution": {
     "iopub.execute_input": "2023-08-06T19:26:08.175570Z",
     "iopub.status.busy": "2023-08-06T19:26:08.175107Z",
     "iopub.status.idle": "2023-08-06T19:26:08.193560Z",
     "shell.execute_reply": "2023-08-06T19:26:08.192359Z"
    },
    "papermill": {
     "duration": 0.048865,
     "end_time": "2023-08-06T19:26:08.196094",
     "exception": false,
     "start_time": "2023-08-06T19:26:08.147229",
     "status": "completed"
    },
    "tags": []
   },
   "outputs": [
    {
     "data": {
      "text/html": [
       "<div>\n",
       "<style scoped>\n",
       "    .dataframe tbody tr th:only-of-type {\n",
       "        vertical-align: middle;\n",
       "    }\n",
       "\n",
       "    .dataframe tbody tr th {\n",
       "        vertical-align: top;\n",
       "    }\n",
       "\n",
       "    .dataframe thead th {\n",
       "        text-align: right;\n",
       "    }\n",
       "</style>\n",
       "<table border=\"1\" class=\"dataframe\">\n",
       "  <thead>\n",
       "    <tr style=\"text-align: right;\">\n",
       "      <th></th>\n",
       "      <th>ch_code</th>\n",
       "    </tr>\n",
       "  </thead>\n",
       "  <tbody>\n",
       "    <tr>\n",
       "      <th>0</th>\n",
       "      <td>AI</td>\n",
       "    </tr>\n",
       "    <tr>\n",
       "      <th>5</th>\n",
       "      <td>UK</td>\n",
       "    </tr>\n",
       "  </tbody>\n",
       "</table>\n",
       "</div>"
      ],
      "text/plain": [
       "  ch_code\n",
       "0      AI\n",
       "5      UK"
      ]
     },
     "execution_count": 19,
     "metadata": {},
     "output_type": "execute_result"
    }
   ],
   "source": [
    "pd.DataFrame(bus[\"ch_code\"]).drop_duplicates(\"ch_code\")"
   ]
  },
  {
   "cell_type": "code",
   "execution_count": 20,
   "id": "8b0edb7d",
   "metadata": {
    "execution": {
     "iopub.execute_input": "2023-08-06T19:26:08.250859Z",
     "iopub.status.busy": "2023-08-06T19:26:08.250442Z",
     "iopub.status.idle": "2023-08-06T19:26:08.269007Z",
     "shell.execute_reply": "2023-08-06T19:26:08.267443Z"
    },
    "papermill": {
     "duration": 0.049248,
     "end_time": "2023-08-06T19:26:08.271766",
     "exception": false,
     "start_time": "2023-08-06T19:26:08.222518",
     "status": "completed"
    },
    "tags": []
   },
   "outputs": [
    {
     "data": {
      "text/html": [
       "<div>\n",
       "<style scoped>\n",
       "    .dataframe tbody tr th:only-of-type {\n",
       "        vertical-align: middle;\n",
       "    }\n",
       "\n",
       "    .dataframe tbody tr th {\n",
       "        vertical-align: top;\n",
       "    }\n",
       "\n",
       "    .dataframe thead th {\n",
       "        text-align: right;\n",
       "    }\n",
       "</style>\n",
       "<table border=\"1\" class=\"dataframe\">\n",
       "  <thead>\n",
       "    <tr style=\"text-align: right;\">\n",
       "      <th></th>\n",
       "      <th>time_taken</th>\n",
       "    </tr>\n",
       "  </thead>\n",
       "  <tbody>\n",
       "    <tr>\n",
       "      <th>0</th>\n",
       "      <td>02h 00m</td>\n",
       "    </tr>\n",
       "    <tr>\n",
       "      <th>1</th>\n",
       "      <td>02h 15m</td>\n",
       "    </tr>\n",
       "    <tr>\n",
       "      <th>2</th>\n",
       "      <td>24h 45m</td>\n",
       "    </tr>\n",
       "    <tr>\n",
       "      <th>3</th>\n",
       "      <td>26h 30m</td>\n",
       "    </tr>\n",
       "    <tr>\n",
       "      <th>4</th>\n",
       "      <td>06h 40m</td>\n",
       "    </tr>\n",
       "    <tr>\n",
       "      <th>...</th>\n",
       "      <td>...</td>\n",
       "    </tr>\n",
       "    <tr>\n",
       "      <th>80762</th>\n",
       "      <td>31h 35m</td>\n",
       "    </tr>\n",
       "    <tr>\n",
       "      <th>86940</th>\n",
       "      <td>45h 50m</td>\n",
       "    </tr>\n",
       "    <tr>\n",
       "      <th>89074</th>\n",
       "      <td>34h 30m</td>\n",
       "    </tr>\n",
       "    <tr>\n",
       "      <th>89286</th>\n",
       "      <td>34h 00m</td>\n",
       "    </tr>\n",
       "    <tr>\n",
       "      <th>89287</th>\n",
       "      <td>37h 50m</td>\n",
       "    </tr>\n",
       "  </tbody>\n",
       "</table>\n",
       "<p>373 rows × 1 columns</p>\n",
       "</div>"
      ],
      "text/plain": [
       "      time_taken\n",
       "0        02h 00m\n",
       "1        02h 15m\n",
       "2        24h 45m\n",
       "3        26h 30m\n",
       "4        06h 40m\n",
       "...          ...\n",
       "80762    31h 35m\n",
       "86940    45h 50m\n",
       "89074    34h 30m\n",
       "89286    34h 00m\n",
       "89287    37h 50m\n",
       "\n",
       "[373 rows x 1 columns]"
      ]
     },
     "execution_count": 20,
     "metadata": {},
     "output_type": "execute_result"
    }
   ],
   "source": [
    "pd.DataFrame(bus[\"time_taken\"]).drop_duplicates(\"time_taken\")"
   ]
  },
  {
   "cell_type": "code",
   "execution_count": 21,
   "id": "4b6d9c9d",
   "metadata": {
    "execution": {
     "iopub.execute_input": "2023-08-06T19:26:08.324138Z",
     "iopub.status.busy": "2023-08-06T19:26:08.323701Z",
     "iopub.status.idle": "2023-08-06T19:26:08.365479Z",
     "shell.execute_reply": "2023-08-06T19:26:08.364365Z"
    },
    "papermill": {
     "duration": 0.071089,
     "end_time": "2023-08-06T19:26:08.368473",
     "exception": false,
     "start_time": "2023-08-06T19:26:08.297384",
     "status": "completed"
    },
    "tags": []
   },
   "outputs": [
    {
     "data": {
      "text/plain": [
       "min    1,00,111\n",
       "max      99,680\n",
       "Name: price, dtype: object"
      ]
     },
     "execution_count": 21,
     "metadata": {},
     "output_type": "execute_result"
    }
   ],
   "source": [
    "bus[\"price\"].agg([\"min\" , 'max'])"
   ]
  },
  {
   "cell_type": "markdown",
   "id": "883abe32",
   "metadata": {
    "papermill": {
     "duration": 0.026106,
     "end_time": "2023-08-06T19:26:08.419868",
     "exception": false,
     "start_time": "2023-08-06T19:26:08.393762",
     "status": "completed"
    },
    "tags": []
   },
   "source": [
    "### info to Economy_class"
   ]
  },
  {
   "cell_type": "code",
   "execution_count": 22,
   "id": "67e8ea40",
   "metadata": {
    "execution": {
     "iopub.execute_input": "2023-08-06T19:26:08.475079Z",
     "iopub.status.busy": "2023-08-06T19:26:08.473759Z",
     "iopub.status.idle": "2023-08-06T19:26:09.229829Z",
     "shell.execute_reply": "2023-08-06T19:26:09.228574Z"
    },
    "papermill": {
     "duration": 0.786154,
     "end_time": "2023-08-06T19:26:09.232655",
     "exception": false,
     "start_time": "2023-08-06T19:26:08.446501",
     "status": "completed"
    },
    "tags": []
   },
   "outputs": [],
   "source": [
    "eco=pd.read_csv(\"/kaggle/input/flight-price-prediction/economy.csv\")"
   ]
  },
  {
   "cell_type": "code",
   "execution_count": 23,
   "id": "21746486",
   "metadata": {
    "execution": {
     "iopub.execute_input": "2023-08-06T19:26:09.287299Z",
     "iopub.status.busy": "2023-08-06T19:26:09.286783Z",
     "iopub.status.idle": "2023-08-06T19:26:09.960407Z",
     "shell.execute_reply": "2023-08-06T19:26:09.958413Z"
    },
    "papermill": {
     "duration": 0.704918,
     "end_time": "2023-08-06T19:26:09.963731",
     "exception": false,
     "start_time": "2023-08-06T19:26:09.258813",
     "status": "completed"
    },
    "tags": []
   },
   "outputs": [
    {
     "name": "stdout",
     "output_type": "stream",
     "text": [
      "<class 'pandas.core.frame.DataFrame'>\n",
      "RangeIndex: 206774 entries, 0 to 206773\n",
      "Data columns (total 11 columns):\n",
      " #   Column      Non-Null Count   Dtype \n",
      "---  ------      --------------   ----- \n",
      " 0   date        206774 non-null  object\n",
      " 1   airline     206774 non-null  object\n",
      " 2   ch_code     206774 non-null  object\n",
      " 3   num_code    206774 non-null  int64 \n",
      " 4   dep_time    206774 non-null  object\n",
      " 5   from        206774 non-null  object\n",
      " 6   time_taken  206774 non-null  object\n",
      " 7   stop        206774 non-null  object\n",
      " 8   arr_time    206774 non-null  object\n",
      " 9   to          206774 non-null  object\n",
      " 10  price       206774 non-null  object\n",
      "dtypes: int64(1), object(10)\n",
      "memory usage: 17.4+ MB\n"
     ]
    }
   ],
   "source": [
    "eco.info()"
   ]
  },
  {
   "cell_type": "code",
   "execution_count": 24,
   "id": "5da805d1",
   "metadata": {
    "execution": {
     "iopub.execute_input": "2023-08-06T19:26:10.018159Z",
     "iopub.status.busy": "2023-08-06T19:26:10.017719Z",
     "iopub.status.idle": "2023-08-06T19:26:10.035976Z",
     "shell.execute_reply": "2023-08-06T19:26:10.034696Z"
    },
    "papermill": {
     "duration": 0.049146,
     "end_time": "2023-08-06T19:26:10.038672",
     "exception": false,
     "start_time": "2023-08-06T19:26:09.989526",
     "status": "completed"
    },
    "tags": []
   },
   "outputs": [
    {
     "data": {
      "text/html": [
       "<div>\n",
       "<style scoped>\n",
       "    .dataframe tbody tr th:only-of-type {\n",
       "        vertical-align: middle;\n",
       "    }\n",
       "\n",
       "    .dataframe tbody tr th {\n",
       "        vertical-align: top;\n",
       "    }\n",
       "\n",
       "    .dataframe thead th {\n",
       "        text-align: right;\n",
       "    }\n",
       "</style>\n",
       "<table border=\"1\" class=\"dataframe\">\n",
       "  <thead>\n",
       "    <tr style=\"text-align: right;\">\n",
       "      <th></th>\n",
       "      <th>date</th>\n",
       "      <th>airline</th>\n",
       "      <th>ch_code</th>\n",
       "      <th>num_code</th>\n",
       "      <th>dep_time</th>\n",
       "      <th>from</th>\n",
       "      <th>time_taken</th>\n",
       "      <th>stop</th>\n",
       "      <th>arr_time</th>\n",
       "      <th>to</th>\n",
       "      <th>price</th>\n",
       "    </tr>\n",
       "  </thead>\n",
       "  <tbody>\n",
       "    <tr>\n",
       "      <th>0</th>\n",
       "      <td>11-02-2022</td>\n",
       "      <td>SpiceJet</td>\n",
       "      <td>SG</td>\n",
       "      <td>8709</td>\n",
       "      <td>18:55</td>\n",
       "      <td>Delhi</td>\n",
       "      <td>02h 10m</td>\n",
       "      <td>non-stop</td>\n",
       "      <td>21:05</td>\n",
       "      <td>Mumbai</td>\n",
       "      <td>5,953</td>\n",
       "    </tr>\n",
       "    <tr>\n",
       "      <th>1</th>\n",
       "      <td>11-02-2022</td>\n",
       "      <td>SpiceJet</td>\n",
       "      <td>SG</td>\n",
       "      <td>8157</td>\n",
       "      <td>06:20</td>\n",
       "      <td>Delhi</td>\n",
       "      <td>02h 20m</td>\n",
       "      <td>non-stop</td>\n",
       "      <td>08:40</td>\n",
       "      <td>Mumbai</td>\n",
       "      <td>5,953</td>\n",
       "    </tr>\n",
       "    <tr>\n",
       "      <th>2</th>\n",
       "      <td>11-02-2022</td>\n",
       "      <td>AirAsia</td>\n",
       "      <td>I5</td>\n",
       "      <td>764</td>\n",
       "      <td>04:25</td>\n",
       "      <td>Delhi</td>\n",
       "      <td>02h 10m</td>\n",
       "      <td>non-stop</td>\n",
       "      <td>06:35</td>\n",
       "      <td>Mumbai</td>\n",
       "      <td>5,956</td>\n",
       "    </tr>\n",
       "    <tr>\n",
       "      <th>3</th>\n",
       "      <td>11-02-2022</td>\n",
       "      <td>Vistara</td>\n",
       "      <td>UK</td>\n",
       "      <td>995</td>\n",
       "      <td>10:20</td>\n",
       "      <td>Delhi</td>\n",
       "      <td>02h 15m</td>\n",
       "      <td>non-stop</td>\n",
       "      <td>12:35</td>\n",
       "      <td>Mumbai</td>\n",
       "      <td>5,955</td>\n",
       "    </tr>\n",
       "    <tr>\n",
       "      <th>4</th>\n",
       "      <td>11-02-2022</td>\n",
       "      <td>Vistara</td>\n",
       "      <td>UK</td>\n",
       "      <td>963</td>\n",
       "      <td>08:50</td>\n",
       "      <td>Delhi</td>\n",
       "      <td>02h 20m</td>\n",
       "      <td>non-stop</td>\n",
       "      <td>11:10</td>\n",
       "      <td>Mumbai</td>\n",
       "      <td>5,955</td>\n",
       "    </tr>\n",
       "  </tbody>\n",
       "</table>\n",
       "</div>"
      ],
      "text/plain": [
       "         date   airline ch_code  num_code dep_time   from time_taken  \\\n",
       "0  11-02-2022  SpiceJet      SG      8709    18:55  Delhi    02h 10m   \n",
       "1  11-02-2022  SpiceJet      SG      8157    06:20  Delhi    02h 20m   \n",
       "2  11-02-2022   AirAsia      I5       764    04:25  Delhi    02h 10m   \n",
       "3  11-02-2022   Vistara      UK       995    10:20  Delhi    02h 15m   \n",
       "4  11-02-2022   Vistara      UK       963    08:50  Delhi    02h 20m   \n",
       "\n",
       "        stop arr_time      to  price  \n",
       "0  non-stop     21:05  Mumbai  5,953  \n",
       "1  non-stop     08:40  Mumbai  5,953  \n",
       "2  non-stop     06:35  Mumbai  5,956  \n",
       "3  non-stop     12:35  Mumbai  5,955  \n",
       "4  non-stop     11:10  Mumbai  5,955  "
      ]
     },
     "execution_count": 24,
     "metadata": {},
     "output_type": "execute_result"
    }
   ],
   "source": [
    "eco.head()"
   ]
  },
  {
   "cell_type": "code",
   "execution_count": 25,
   "id": "b9327710",
   "metadata": {
    "execution": {
     "iopub.execute_input": "2023-08-06T19:26:10.092770Z",
     "iopub.status.busy": "2023-08-06T19:26:10.091556Z",
     "iopub.status.idle": "2023-08-06T19:26:10.120254Z",
     "shell.execute_reply": "2023-08-06T19:26:10.118866Z"
    },
    "papermill": {
     "duration": 0.059656,
     "end_time": "2023-08-06T19:26:10.124256",
     "exception": false,
     "start_time": "2023-08-06T19:26:10.064600",
     "status": "completed"
    },
    "tags": []
   },
   "outputs": [
    {
     "data": {
      "text/html": [
       "<div>\n",
       "<style scoped>\n",
       "    .dataframe tbody tr th:only-of-type {\n",
       "        vertical-align: middle;\n",
       "    }\n",
       "\n",
       "    .dataframe tbody tr th {\n",
       "        vertical-align: top;\n",
       "    }\n",
       "\n",
       "    .dataframe thead th {\n",
       "        text-align: right;\n",
       "    }\n",
       "</style>\n",
       "<table border=\"1\" class=\"dataframe\">\n",
       "  <thead>\n",
       "    <tr style=\"text-align: right;\">\n",
       "      <th></th>\n",
       "      <th>ch_code</th>\n",
       "    </tr>\n",
       "  </thead>\n",
       "  <tbody>\n",
       "    <tr>\n",
       "      <th>0</th>\n",
       "      <td>SG</td>\n",
       "    </tr>\n",
       "    <tr>\n",
       "      <th>2</th>\n",
       "      <td>I5</td>\n",
       "    </tr>\n",
       "    <tr>\n",
       "      <th>3</th>\n",
       "      <td>UK</td>\n",
       "    </tr>\n",
       "    <tr>\n",
       "      <th>8</th>\n",
       "      <td>G8</td>\n",
       "    </tr>\n",
       "    <tr>\n",
       "      <th>12</th>\n",
       "      <td>6E</td>\n",
       "    </tr>\n",
       "    <tr>\n",
       "      <th>16</th>\n",
       "      <td>AI</td>\n",
       "    </tr>\n",
       "    <tr>\n",
       "      <th>71637</th>\n",
       "      <td>2T</td>\n",
       "    </tr>\n",
       "    <tr>\n",
       "      <th>109730</th>\n",
       "      <td>S5</td>\n",
       "    </tr>\n",
       "  </tbody>\n",
       "</table>\n",
       "</div>"
      ],
      "text/plain": [
       "       ch_code\n",
       "0           SG\n",
       "2           I5\n",
       "3           UK\n",
       "8           G8\n",
       "12          6E\n",
       "16          AI\n",
       "71637       2T\n",
       "109730      S5"
      ]
     },
     "execution_count": 25,
     "metadata": {},
     "output_type": "execute_result"
    }
   ],
   "source": [
    "pd.DataFrame(eco[\"ch_code\"]).drop_duplicates(\"ch_code\")"
   ]
  },
  {
   "cell_type": "code",
   "execution_count": 26,
   "id": "d8ba4c9e",
   "metadata": {
    "execution": {
     "iopub.execute_input": "2023-08-06T19:26:10.185515Z",
     "iopub.status.busy": "2023-08-06T19:26:10.185109Z",
     "iopub.status.idle": "2023-08-06T19:26:10.265618Z",
     "shell.execute_reply": "2023-08-06T19:26:10.264226Z"
    },
    "papermill": {
     "duration": 0.114625,
     "end_time": "2023-08-06T19:26:10.268229",
     "exception": false,
     "start_time": "2023-08-06T19:26:10.153604",
     "status": "completed"
    },
    "tags": []
   },
   "outputs": [
    {
     "data": {
      "text/plain": [
       "min    1,105\n",
       "max    9,999\n",
       "Name: price, dtype: object"
      ]
     },
     "execution_count": 26,
     "metadata": {},
     "output_type": "execute_result"
    }
   ],
   "source": [
    "eco[\"price\"].agg([\"min\" , 'max'])"
   ]
  },
  {
   "cell_type": "markdown",
   "id": "06247f2e",
   "metadata": {
    "papermill": {
     "duration": 0.02622,
     "end_time": "2023-08-06T19:26:10.320300",
     "exception": false,
     "start_time": "2023-08-06T19:26:10.294080",
     "status": "completed"
    },
    "tags": []
   },
   "source": [
    "# Data visualization\n"
   ]
  },
  {
   "cell_type": "code",
   "execution_count": 27,
   "id": "c0cf7a47",
   "metadata": {
    "execution": {
     "iopub.execute_input": "2023-08-06T19:26:10.374445Z",
     "iopub.status.busy": "2023-08-06T19:26:10.373993Z",
     "iopub.status.idle": "2023-08-06T19:26:10.391467Z",
     "shell.execute_reply": "2023-08-06T19:26:10.390189Z"
    },
    "papermill": {
     "duration": 0.04733,
     "end_time": "2023-08-06T19:26:10.393979",
     "exception": false,
     "start_time": "2023-08-06T19:26:10.346649",
     "status": "completed"
    },
    "tags": []
   },
   "outputs": [
    {
     "data": {
      "text/html": [
       "<div>\n",
       "<style scoped>\n",
       "    .dataframe tbody tr th:only-of-type {\n",
       "        vertical-align: middle;\n",
       "    }\n",
       "\n",
       "    .dataframe tbody tr th {\n",
       "        vertical-align: top;\n",
       "    }\n",
       "\n",
       "    .dataframe thead th {\n",
       "        text-align: right;\n",
       "    }\n",
       "</style>\n",
       "<table border=\"1\" class=\"dataframe\">\n",
       "  <thead>\n",
       "    <tr style=\"text-align: right;\">\n",
       "      <th></th>\n",
       "      <th>airline</th>\n",
       "      <th>flight</th>\n",
       "      <th>source_city</th>\n",
       "      <th>departure_time</th>\n",
       "      <th>stops</th>\n",
       "      <th>arrival_time</th>\n",
       "      <th>destination_city</th>\n",
       "      <th>class</th>\n",
       "      <th>duration</th>\n",
       "      <th>days_left</th>\n",
       "      <th>price</th>\n",
       "    </tr>\n",
       "  </thead>\n",
       "  <tbody>\n",
       "    <tr>\n",
       "      <th>0</th>\n",
       "      <td>SpiceJet</td>\n",
       "      <td>SG-8709</td>\n",
       "      <td>Delhi</td>\n",
       "      <td>Evening</td>\n",
       "      <td>zero</td>\n",
       "      <td>Night</td>\n",
       "      <td>Mumbai</td>\n",
       "      <td>Economy</td>\n",
       "      <td>2.17</td>\n",
       "      <td>1</td>\n",
       "      <td>5953</td>\n",
       "    </tr>\n",
       "    <tr>\n",
       "      <th>1</th>\n",
       "      <td>SpiceJet</td>\n",
       "      <td>SG-8157</td>\n",
       "      <td>Delhi</td>\n",
       "      <td>Early_Morning</td>\n",
       "      <td>zero</td>\n",
       "      <td>Morning</td>\n",
       "      <td>Mumbai</td>\n",
       "      <td>Economy</td>\n",
       "      <td>2.33</td>\n",
       "      <td>1</td>\n",
       "      <td>5953</td>\n",
       "    </tr>\n",
       "    <tr>\n",
       "      <th>2</th>\n",
       "      <td>AirAsia</td>\n",
       "      <td>I5-764</td>\n",
       "      <td>Delhi</td>\n",
       "      <td>Early_Morning</td>\n",
       "      <td>zero</td>\n",
       "      <td>Early_Morning</td>\n",
       "      <td>Mumbai</td>\n",
       "      <td>Economy</td>\n",
       "      <td>2.17</td>\n",
       "      <td>1</td>\n",
       "      <td>5956</td>\n",
       "    </tr>\n",
       "    <tr>\n",
       "      <th>3</th>\n",
       "      <td>Vistara</td>\n",
       "      <td>UK-995</td>\n",
       "      <td>Delhi</td>\n",
       "      <td>Morning</td>\n",
       "      <td>zero</td>\n",
       "      <td>Afternoon</td>\n",
       "      <td>Mumbai</td>\n",
       "      <td>Economy</td>\n",
       "      <td>2.25</td>\n",
       "      <td>1</td>\n",
       "      <td>5955</td>\n",
       "    </tr>\n",
       "    <tr>\n",
       "      <th>4</th>\n",
       "      <td>Vistara</td>\n",
       "      <td>UK-963</td>\n",
       "      <td>Delhi</td>\n",
       "      <td>Morning</td>\n",
       "      <td>zero</td>\n",
       "      <td>Morning</td>\n",
       "      <td>Mumbai</td>\n",
       "      <td>Economy</td>\n",
       "      <td>2.33</td>\n",
       "      <td>1</td>\n",
       "      <td>5955</td>\n",
       "    </tr>\n",
       "  </tbody>\n",
       "</table>\n",
       "</div>"
      ],
      "text/plain": [
       "    airline   flight source_city departure_time stops   arrival_time  \\\n",
       "0  SpiceJet  SG-8709       Delhi        Evening  zero          Night   \n",
       "1  SpiceJet  SG-8157       Delhi  Early_Morning  zero        Morning   \n",
       "2   AirAsia   I5-764       Delhi  Early_Morning  zero  Early_Morning   \n",
       "3   Vistara   UK-995       Delhi        Morning  zero      Afternoon   \n",
       "4   Vistara   UK-963       Delhi        Morning  zero        Morning   \n",
       "\n",
       "  destination_city    class  duration  days_left  price  \n",
       "0           Mumbai  Economy      2.17          1   5953  \n",
       "1           Mumbai  Economy      2.33          1   5953  \n",
       "2           Mumbai  Economy      2.17          1   5956  \n",
       "3           Mumbai  Economy      2.25          1   5955  \n",
       "4           Mumbai  Economy      2.33          1   5955  "
      ]
     },
     "execution_count": 27,
     "metadata": {},
     "output_type": "execute_result"
    }
   ],
   "source": [
    "df.head()"
   ]
  },
  {
   "cell_type": "code",
   "execution_count": 28,
   "id": "929961e9",
   "metadata": {
    "execution": {
     "iopub.execute_input": "2023-08-06T19:26:10.449002Z",
     "iopub.status.busy": "2023-08-06T19:26:10.448571Z",
     "iopub.status.idle": "2023-08-06T19:26:10.465188Z",
     "shell.execute_reply": "2023-08-06T19:26:10.463855Z"
    },
    "papermill": {
     "duration": 0.047178,
     "end_time": "2023-08-06T19:26:10.467835",
     "exception": false,
     "start_time": "2023-08-06T19:26:10.420657",
     "status": "completed"
    },
    "tags": []
   },
   "outputs": [
    {
     "data": {
      "text/html": [
       "<div>\n",
       "<style scoped>\n",
       "    .dataframe tbody tr th:only-of-type {\n",
       "        vertical-align: middle;\n",
       "    }\n",
       "\n",
       "    .dataframe tbody tr th {\n",
       "        vertical-align: top;\n",
       "    }\n",
       "\n",
       "    .dataframe thead th {\n",
       "        text-align: right;\n",
       "    }\n",
       "</style>\n",
       "<table border=\"1\" class=\"dataframe\">\n",
       "  <thead>\n",
       "    <tr style=\"text-align: right;\">\n",
       "      <th></th>\n",
       "      <th>date</th>\n",
       "      <th>airline</th>\n",
       "      <th>ch_code</th>\n",
       "      <th>num_code</th>\n",
       "      <th>dep_time</th>\n",
       "      <th>from</th>\n",
       "      <th>time_taken</th>\n",
       "      <th>stop</th>\n",
       "      <th>arr_time</th>\n",
       "      <th>to</th>\n",
       "      <th>price</th>\n",
       "    </tr>\n",
       "  </thead>\n",
       "  <tbody>\n",
       "    <tr>\n",
       "      <th>0</th>\n",
       "      <td>11-02-2022</td>\n",
       "      <td>Air India</td>\n",
       "      <td>AI</td>\n",
       "      <td>868</td>\n",
       "      <td>18:00</td>\n",
       "      <td>Delhi</td>\n",
       "      <td>02h 00m</td>\n",
       "      <td>non-stop</td>\n",
       "      <td>20:00</td>\n",
       "      <td>Mumbai</td>\n",
       "      <td>25,612</td>\n",
       "    </tr>\n",
       "    <tr>\n",
       "      <th>1</th>\n",
       "      <td>11-02-2022</td>\n",
       "      <td>Air India</td>\n",
       "      <td>AI</td>\n",
       "      <td>624</td>\n",
       "      <td>19:00</td>\n",
       "      <td>Delhi</td>\n",
       "      <td>02h 15m</td>\n",
       "      <td>non-stop</td>\n",
       "      <td>21:15</td>\n",
       "      <td>Mumbai</td>\n",
       "      <td>25,612</td>\n",
       "    </tr>\n",
       "    <tr>\n",
       "      <th>2</th>\n",
       "      <td>11-02-2022</td>\n",
       "      <td>Air India</td>\n",
       "      <td>AI</td>\n",
       "      <td>531</td>\n",
       "      <td>20:00</td>\n",
       "      <td>Delhi</td>\n",
       "      <td>24h 45m</td>\n",
       "      <td>1-stop\\n\\t\\t\\t\\t\\t\\t\\t\\t\\t\\t\\t\\t\\n\\t\\t\\t\\t\\t\\t...</td>\n",
       "      <td>20:45</td>\n",
       "      <td>Mumbai</td>\n",
       "      <td>42,220</td>\n",
       "    </tr>\n",
       "    <tr>\n",
       "      <th>3</th>\n",
       "      <td>11-02-2022</td>\n",
       "      <td>Air India</td>\n",
       "      <td>AI</td>\n",
       "      <td>839</td>\n",
       "      <td>21:25</td>\n",
       "      <td>Delhi</td>\n",
       "      <td>26h 30m</td>\n",
       "      <td>1-stop\\n\\t\\t\\t\\t\\t\\t\\t\\t\\t\\t\\t\\t\\n\\t\\t\\t\\t\\t\\t...</td>\n",
       "      <td>23:55</td>\n",
       "      <td>Mumbai</td>\n",
       "      <td>44,450</td>\n",
       "    </tr>\n",
       "    <tr>\n",
       "      <th>4</th>\n",
       "      <td>11-02-2022</td>\n",
       "      <td>Air India</td>\n",
       "      <td>AI</td>\n",
       "      <td>544</td>\n",
       "      <td>17:15</td>\n",
       "      <td>Delhi</td>\n",
       "      <td>06h 40m</td>\n",
       "      <td>1-stop\\n\\t\\t\\t\\t\\t\\t\\t\\t\\t\\t\\t\\t\\n\\t\\t\\t\\t\\t\\t...</td>\n",
       "      <td>23:55</td>\n",
       "      <td>Mumbai</td>\n",
       "      <td>46,690</td>\n",
       "    </tr>\n",
       "  </tbody>\n",
       "</table>\n",
       "</div>"
      ],
      "text/plain": [
       "         date    airline ch_code  num_code dep_time   from time_taken  \\\n",
       "0  11-02-2022  Air India      AI       868    18:00  Delhi    02h 00m   \n",
       "1  11-02-2022  Air India      AI       624    19:00  Delhi    02h 15m   \n",
       "2  11-02-2022  Air India      AI       531    20:00  Delhi    24h 45m   \n",
       "3  11-02-2022  Air India      AI       839    21:25  Delhi    26h 30m   \n",
       "4  11-02-2022  Air India      AI       544    17:15  Delhi    06h 40m   \n",
       "\n",
       "                                                stop arr_time      to   price  \n",
       "0                                          non-stop     20:00  Mumbai  25,612  \n",
       "1                                          non-stop     21:15  Mumbai  25,612  \n",
       "2  1-stop\\n\\t\\t\\t\\t\\t\\t\\t\\t\\t\\t\\t\\t\\n\\t\\t\\t\\t\\t\\t...    20:45  Mumbai  42,220  \n",
       "3  1-stop\\n\\t\\t\\t\\t\\t\\t\\t\\t\\t\\t\\t\\t\\n\\t\\t\\t\\t\\t\\t...    23:55  Mumbai  44,450  \n",
       "4  1-stop\\n\\t\\t\\t\\t\\t\\t\\t\\t\\t\\t\\t\\t\\n\\t\\t\\t\\t\\t\\t...    23:55  Mumbai  46,690  "
      ]
     },
     "execution_count": 28,
     "metadata": {},
     "output_type": "execute_result"
    }
   ],
   "source": [
    "bus.head()"
   ]
  },
  {
   "cell_type": "code",
   "execution_count": 29,
   "id": "aa81176b",
   "metadata": {
    "execution": {
     "iopub.execute_input": "2023-08-06T19:26:10.523441Z",
     "iopub.status.busy": "2023-08-06T19:26:10.522946Z",
     "iopub.status.idle": "2023-08-06T19:26:10.540465Z",
     "shell.execute_reply": "2023-08-06T19:26:10.539047Z"
    },
    "papermill": {
     "duration": 0.048649,
     "end_time": "2023-08-06T19:26:10.542989",
     "exception": false,
     "start_time": "2023-08-06T19:26:10.494340",
     "status": "completed"
    },
    "tags": []
   },
   "outputs": [
    {
     "data": {
      "text/html": [
       "<div>\n",
       "<style scoped>\n",
       "    .dataframe tbody tr th:only-of-type {\n",
       "        vertical-align: middle;\n",
       "    }\n",
       "\n",
       "    .dataframe tbody tr th {\n",
       "        vertical-align: top;\n",
       "    }\n",
       "\n",
       "    .dataframe thead th {\n",
       "        text-align: right;\n",
       "    }\n",
       "</style>\n",
       "<table border=\"1\" class=\"dataframe\">\n",
       "  <thead>\n",
       "    <tr style=\"text-align: right;\">\n",
       "      <th></th>\n",
       "      <th>date</th>\n",
       "      <th>airline</th>\n",
       "      <th>ch_code</th>\n",
       "      <th>num_code</th>\n",
       "      <th>dep_time</th>\n",
       "      <th>from</th>\n",
       "      <th>time_taken</th>\n",
       "      <th>stop</th>\n",
       "      <th>arr_time</th>\n",
       "      <th>to</th>\n",
       "      <th>price</th>\n",
       "    </tr>\n",
       "  </thead>\n",
       "  <tbody>\n",
       "    <tr>\n",
       "      <th>0</th>\n",
       "      <td>11-02-2022</td>\n",
       "      <td>Air India</td>\n",
       "      <td>AI</td>\n",
       "      <td>868</td>\n",
       "      <td>18:00</td>\n",
       "      <td>Delhi</td>\n",
       "      <td>02h 00m</td>\n",
       "      <td>non-stop</td>\n",
       "      <td>20:00</td>\n",
       "      <td>Mumbai</td>\n",
       "      <td>25,612</td>\n",
       "    </tr>\n",
       "    <tr>\n",
       "      <th>1</th>\n",
       "      <td>11-02-2022</td>\n",
       "      <td>Air India</td>\n",
       "      <td>AI</td>\n",
       "      <td>624</td>\n",
       "      <td>19:00</td>\n",
       "      <td>Delhi</td>\n",
       "      <td>02h 15m</td>\n",
       "      <td>non-stop</td>\n",
       "      <td>21:15</td>\n",
       "      <td>Mumbai</td>\n",
       "      <td>25,612</td>\n",
       "    </tr>\n",
       "    <tr>\n",
       "      <th>2</th>\n",
       "      <td>11-02-2022</td>\n",
       "      <td>Air India</td>\n",
       "      <td>AI</td>\n",
       "      <td>531</td>\n",
       "      <td>20:00</td>\n",
       "      <td>Delhi</td>\n",
       "      <td>24h 45m</td>\n",
       "      <td>1-stop\\n\\t\\t\\t\\t\\t\\t\\t\\t\\t\\t\\t\\t\\n\\t\\t\\t\\t\\t\\t...</td>\n",
       "      <td>20:45</td>\n",
       "      <td>Mumbai</td>\n",
       "      <td>42,220</td>\n",
       "    </tr>\n",
       "    <tr>\n",
       "      <th>3</th>\n",
       "      <td>11-02-2022</td>\n",
       "      <td>Air India</td>\n",
       "      <td>AI</td>\n",
       "      <td>839</td>\n",
       "      <td>21:25</td>\n",
       "      <td>Delhi</td>\n",
       "      <td>26h 30m</td>\n",
       "      <td>1-stop\\n\\t\\t\\t\\t\\t\\t\\t\\t\\t\\t\\t\\t\\n\\t\\t\\t\\t\\t\\t...</td>\n",
       "      <td>23:55</td>\n",
       "      <td>Mumbai</td>\n",
       "      <td>44,450</td>\n",
       "    </tr>\n",
       "    <tr>\n",
       "      <th>4</th>\n",
       "      <td>11-02-2022</td>\n",
       "      <td>Air India</td>\n",
       "      <td>AI</td>\n",
       "      <td>544</td>\n",
       "      <td>17:15</td>\n",
       "      <td>Delhi</td>\n",
       "      <td>06h 40m</td>\n",
       "      <td>1-stop\\n\\t\\t\\t\\t\\t\\t\\t\\t\\t\\t\\t\\t\\n\\t\\t\\t\\t\\t\\t...</td>\n",
       "      <td>23:55</td>\n",
       "      <td>Mumbai</td>\n",
       "      <td>46,690</td>\n",
       "    </tr>\n",
       "  </tbody>\n",
       "</table>\n",
       "</div>"
      ],
      "text/plain": [
       "         date    airline ch_code  num_code dep_time   from time_taken  \\\n",
       "0  11-02-2022  Air India      AI       868    18:00  Delhi    02h 00m   \n",
       "1  11-02-2022  Air India      AI       624    19:00  Delhi    02h 15m   \n",
       "2  11-02-2022  Air India      AI       531    20:00  Delhi    24h 45m   \n",
       "3  11-02-2022  Air India      AI       839    21:25  Delhi    26h 30m   \n",
       "4  11-02-2022  Air India      AI       544    17:15  Delhi    06h 40m   \n",
       "\n",
       "                                                stop arr_time      to   price  \n",
       "0                                          non-stop     20:00  Mumbai  25,612  \n",
       "1                                          non-stop     21:15  Mumbai  25,612  \n",
       "2  1-stop\\n\\t\\t\\t\\t\\t\\t\\t\\t\\t\\t\\t\\t\\n\\t\\t\\t\\t\\t\\t...    20:45  Mumbai  42,220  \n",
       "3  1-stop\\n\\t\\t\\t\\t\\t\\t\\t\\t\\t\\t\\t\\t\\n\\t\\t\\t\\t\\t\\t...    23:55  Mumbai  44,450  \n",
       "4  1-stop\\n\\t\\t\\t\\t\\t\\t\\t\\t\\t\\t\\t\\t\\n\\t\\t\\t\\t\\t\\t...    23:55  Mumbai  46,690  "
      ]
     },
     "execution_count": 29,
     "metadata": {},
     "output_type": "execute_result"
    }
   ],
   "source": [
    "bus.head()"
   ]
  },
  {
   "cell_type": "markdown",
   "id": "30eb6e81",
   "metadata": {
    "papermill": {
     "duration": 0.026462,
     "end_time": "2023-08-06T19:26:10.596340",
     "exception": false,
     "start_time": "2023-08-06T19:26:10.569878",
     "status": "completed"
    },
    "tags": []
   },
   "source": [
    "### Q1: income prices to airline"
   ]
  },
  {
   "cell_type": "code",
   "execution_count": 30,
   "id": "ac1c8f53",
   "metadata": {
    "execution": {
     "iopub.execute_input": "2023-08-06T19:26:10.652089Z",
     "iopub.status.busy": "2023-08-06T19:26:10.651679Z",
     "iopub.status.idle": "2023-08-06T19:26:10.700753Z",
     "shell.execute_reply": "2023-08-06T19:26:10.699097Z"
    },
    "papermill": {
     "duration": 0.080939,
     "end_time": "2023-08-06T19:26:10.703976",
     "exception": false,
     "start_time": "2023-08-06T19:26:10.623037",
     "status": "completed"
    },
    "tags": []
   },
   "outputs": [
    {
     "name": "stderr",
     "output_type": "stream",
     "text": [
      "/tmp/ipykernel_20/3635582149.py:1: FutureWarning: The default value of numeric_only in DataFrameGroupBy.sum is deprecated. In a future version, numeric_only will default to False. Either specify numeric_only or select only columns which should be valid for the function.\n",
      "  df.groupby([\"airline\"]).sum().sort_values(\"price\",ascending=False)[[\"price\"]]\n"
     ]
    },
    {
     "data": {
      "text/html": [
       "<div>\n",
       "<style scoped>\n",
       "    .dataframe tbody tr th:only-of-type {\n",
       "        vertical-align: middle;\n",
       "    }\n",
       "\n",
       "    .dataframe tbody tr th {\n",
       "        vertical-align: top;\n",
       "    }\n",
       "\n",
       "    .dataframe thead th {\n",
       "        text-align: right;\n",
       "    }\n",
       "</style>\n",
       "<table border=\"1\" class=\"dataframe\">\n",
       "  <thead>\n",
       "    <tr style=\"text-align: right;\">\n",
       "      <th></th>\n",
       "      <th>price</th>\n",
       "    </tr>\n",
       "    <tr>\n",
       "      <th>airline</th>\n",
       "      <th></th>\n",
       "    </tr>\n",
       "  </thead>\n",
       "  <tbody>\n",
       "    <tr>\n",
       "      <th>Vistara</th>\n",
       "      <td>3886470735</td>\n",
       "    </tr>\n",
       "    <tr>\n",
       "      <th>Air_India</th>\n",
       "      <td>1901529790</td>\n",
       "    </tr>\n",
       "    <tr>\n",
       "      <th>Indigo</th>\n",
       "      <td>229580207</td>\n",
       "    </tr>\n",
       "    <tr>\n",
       "      <th>GO_FIRST</th>\n",
       "      <td>130973972</td>\n",
       "    </tr>\n",
       "    <tr>\n",
       "      <th>AirAsia</th>\n",
       "      <td>65858089</td>\n",
       "    </tr>\n",
       "    <tr>\n",
       "      <th>SpiceJet</th>\n",
       "      <td>55681482</td>\n",
       "    </tr>\n",
       "  </tbody>\n",
       "</table>\n",
       "</div>"
      ],
      "text/plain": [
       "                price\n",
       "airline              \n",
       "Vistara    3886470735\n",
       "Air_India  1901529790\n",
       "Indigo      229580207\n",
       "GO_FIRST    130973972\n",
       "AirAsia      65858089\n",
       "SpiceJet     55681482"
      ]
     },
     "execution_count": 30,
     "metadata": {},
     "output_type": "execute_result"
    }
   ],
   "source": [
    "df.groupby([\"airline\"]).sum().sort_values(\"price\",ascending=False)[[\"price\"]]"
   ]
  },
  {
   "cell_type": "code",
   "execution_count": 31,
   "id": "8db8600a",
   "metadata": {
    "execution": {
     "iopub.execute_input": "2023-08-06T19:26:10.764863Z",
     "iopub.status.busy": "2023-08-06T19:26:10.764450Z",
     "iopub.status.idle": "2023-08-06T19:26:11.162415Z",
     "shell.execute_reply": "2023-08-06T19:26:11.161185Z"
    },
    "papermill": {
     "duration": 0.432994,
     "end_time": "2023-08-06T19:26:11.165270",
     "exception": false,
     "start_time": "2023-08-06T19:26:10.732276",
     "status": "completed"
    },
    "tags": []
   },
   "outputs": [
    {
     "name": "stderr",
     "output_type": "stream",
     "text": [
      "/tmp/ipykernel_20/2560372366.py:1: FutureWarning: The default value of numeric_only in DataFrameGroupBy.sum is deprecated. In a future version, numeric_only will default to False. Either specify numeric_only or select only columns which should be valid for the function.\n",
      "  df.groupby([\"airline\"]).sum()[[\"price\"]].plot.bar()\n"
     ]
    },
    {
     "data": {
      "text/plain": [
       "<Axes: xlabel='airline'>"
      ]
     },
     "execution_count": 31,
     "metadata": {},
     "output_type": "execute_result"
    },
    {
     "data": {
      "image/png": "[encoded data removed]",
      "text/plain": [
       "<Figure size 640x480 with 1 Axes>"
      ]
     },
     "metadata": {},
     "output_type": "display_data"
    }
   ],
   "source": [
    "df.groupby([\"airline\"]).sum()[[\"price\"]].plot.bar()"
   ]
  },
  {
   "cell_type": "code",
   "execution_count": 32,
   "id": "a8ff457b",
   "metadata": {
    "execution": {
     "iopub.execute_input": "2023-08-06T19:26:11.224408Z",
     "iopub.status.busy": "2023-08-06T19:26:11.223310Z",
     "iopub.status.idle": "2023-08-06T19:26:15.837312Z",
     "shell.execute_reply": "2023-08-06T19:26:15.836194Z"
    },
    "papermill": {
     "duration": 4.645979,
     "end_time": "2023-08-06T19:26:15.839863",
     "exception": false,
     "start_time": "2023-08-06T19:26:11.193884",
     "status": "completed"
    },
    "tags": []
   },
   "outputs": [
    {
     "name": "stderr",
     "output_type": "stream",
     "text": [
      "/opt/conda/lib/python3.10/site-packages/seaborn/axisgrid.py:118: UserWarning: The figure layout has changed to tight\n",
      "  self._figure.tight_layout(*args, **kwargs)\n"
     ]
    },
    {
     "data": {
      "text/plain": [
       "<seaborn.axisgrid.FacetGrid at 0x7c190df0aef0>"
      ]
     },
     "execution_count": 32,
     "metadata": {},
     "output_type": "execute_result"
    },
    {
     "data": {
      "image/png": "[encoded data removed]",
      "text/plain": [
       "<Figure size 3000x500 with 6 Axes>"
      ]
     },
     "metadata": {},
     "output_type": "display_data"
    }
   ],
   "source": [
    "sns.displot(data=df, x=\"price\", col=\"airline\")"
   ]
  },
  {
   "cell_type": "markdown",
   "id": "9f7fca05",
   "metadata": {
    "papermill": {
     "duration": 0.028612,
     "end_time": "2023-08-06T19:26:15.897505",
     "exception": false,
     "start_time": "2023-08-06T19:26:15.868893",
     "status": "completed"
    },
    "tags": []
   },
   "source": [
    "`Vistara` The largest airline in the source of income\n",
    "\n"
   ]
  },
  {
   "cell_type": "markdown",
   "id": "9b42eb55",
   "metadata": {
    "papermill": {
     "duration": 0.030495,
     "end_time": "2023-08-06T19:26:15.956860",
     "exception": false,
     "start_time": "2023-08-06T19:26:15.926365",
     "status": "completed"
    },
    "tags": []
   },
   "source": [
    "## Q2:Airline prices books based on any feature\n"
   ]
  },
  {
   "cell_type": "code",
   "execution_count": 33,
   "id": "76b7d67c",
   "metadata": {
    "execution": {
     "iopub.execute_input": "2023-08-06T19:26:16.032377Z",
     "iopub.status.busy": "2023-08-06T19:26:16.031943Z",
     "iopub.status.idle": "2023-08-06T19:26:16.084169Z",
     "shell.execute_reply": "2023-08-06T19:26:16.082937Z"
    },
    "papermill": {
     "duration": 0.086781,
     "end_time": "2023-08-06T19:26:16.088061",
     "exception": false,
     "start_time": "2023-08-06T19:26:16.001280",
     "status": "completed"
    },
    "tags": []
   },
   "outputs": [
    {
     "name": "stderr",
     "output_type": "stream",
     "text": [
      "/tmp/ipykernel_20/304793965.py:1: FutureWarning: The default value of numeric_only in DataFrameGroupBy.sum is deprecated. In a future version, numeric_only will default to False. Either specify numeric_only or select only columns which should be valid for the function.\n",
      "  df.groupby([\"airline\"]).sum().sort_values(\"duration\",ascending=False)[[\"duration\"]]\n"
     ]
    },
    {
     "data": {
      "text/html": [
       "<div>\n",
       "<style scoped>\n",
       "    .dataframe tbody tr th:only-of-type {\n",
       "        vertical-align: middle;\n",
       "    }\n",
       "\n",
       "    .dataframe tbody tr th {\n",
       "        vertical-align: top;\n",
       "    }\n",
       "\n",
       "    .dataframe thead th {\n",
       "        text-align: right;\n",
       "    }\n",
       "</style>\n",
       "<table border=\"1\" class=\"dataframe\">\n",
       "  <thead>\n",
       "    <tr style=\"text-align: right;\">\n",
       "      <th></th>\n",
       "      <th>duration</th>\n",
       "    </tr>\n",
       "    <tr>\n",
       "      <th>airline</th>\n",
       "      <th></th>\n",
       "    </tr>\n",
       "  </thead>\n",
       "  <tbody>\n",
       "    <tr>\n",
       "      <th>Vistara</th>\n",
       "      <td>1703930.16</td>\n",
       "    </tr>\n",
       "    <tr>\n",
       "      <th>Air_India</th>\n",
       "      <td>1254168.60</td>\n",
       "    </tr>\n",
       "    <tr>\n",
       "      <th>Indigo</th>\n",
       "      <td>249888.88</td>\n",
       "    </tr>\n",
       "    <tr>\n",
       "      <th>GO_FIRST</th>\n",
       "      <td>202888.42</td>\n",
       "    </tr>\n",
       "    <tr>\n",
       "      <th>AirAsia</th>\n",
       "      <td>143943.72</td>\n",
       "    </tr>\n",
       "    <tr>\n",
       "      <th>SpiceJet</th>\n",
       "      <td>113356.28</td>\n",
       "    </tr>\n",
       "  </tbody>\n",
       "</table>\n",
       "</div>"
      ],
      "text/plain": [
       "             duration\n",
       "airline              \n",
       "Vistara    1703930.16\n",
       "Air_India  1254168.60\n",
       "Indigo      249888.88\n",
       "GO_FIRST    202888.42\n",
       "AirAsia     143943.72\n",
       "SpiceJet    113356.28"
      ]
     },
     "execution_count": 33,
     "metadata": {},
     "output_type": "execute_result"
    }
   ],
   "source": [
    "df.groupby([\"airline\"]).sum().sort_values(\"duration\",ascending=False)[[\"duration\"]]"
   ]
  },
  {
   "cell_type": "code",
   "execution_count": 34,
   "id": "406e9a9a",
   "metadata": {
    "execution": {
     "iopub.execute_input": "2023-08-06T19:26:16.149014Z",
     "iopub.status.busy": "2023-08-06T19:26:16.148614Z",
     "iopub.status.idle": "2023-08-06T19:26:16.167078Z",
     "shell.execute_reply": "2023-08-06T19:26:16.165748Z"
    },
    "papermill": {
     "duration": 0.05172,
     "end_time": "2023-08-06T19:26:16.169476",
     "exception": false,
     "start_time": "2023-08-06T19:26:16.117756",
     "status": "completed"
    },
    "tags": []
   },
   "outputs": [
    {
     "data": {
      "text/html": [
       "<div>\n",
       "<style scoped>\n",
       "    .dataframe tbody tr th:only-of-type {\n",
       "        vertical-align: middle;\n",
       "    }\n",
       "\n",
       "    .dataframe tbody tr th {\n",
       "        vertical-align: top;\n",
       "    }\n",
       "\n",
       "    .dataframe thead th {\n",
       "        text-align: right;\n",
       "    }\n",
       "</style>\n",
       "<table border=\"1\" class=\"dataframe\">\n",
       "  <thead>\n",
       "    <tr style=\"text-align: right;\">\n",
       "      <th></th>\n",
       "      <th>date</th>\n",
       "      <th>airline</th>\n",
       "      <th>ch_code</th>\n",
       "      <th>num_code</th>\n",
       "      <th>dep_time</th>\n",
       "      <th>from</th>\n",
       "      <th>time_taken</th>\n",
       "      <th>stop</th>\n",
       "      <th>arr_time</th>\n",
       "      <th>to</th>\n",
       "      <th>price</th>\n",
       "    </tr>\n",
       "  </thead>\n",
       "  <tbody>\n",
       "    <tr>\n",
       "      <th>0</th>\n",
       "      <td>11-02-2022</td>\n",
       "      <td>Air India</td>\n",
       "      <td>AI</td>\n",
       "      <td>868</td>\n",
       "      <td>18:00</td>\n",
       "      <td>Delhi</td>\n",
       "      <td>02h 00m</td>\n",
       "      <td>non-stop</td>\n",
       "      <td>20:00</td>\n",
       "      <td>Mumbai</td>\n",
       "      <td>25,612</td>\n",
       "    </tr>\n",
       "    <tr>\n",
       "      <th>1</th>\n",
       "      <td>11-02-2022</td>\n",
       "      <td>Air India</td>\n",
       "      <td>AI</td>\n",
       "      <td>624</td>\n",
       "      <td>19:00</td>\n",
       "      <td>Delhi</td>\n",
       "      <td>02h 15m</td>\n",
       "      <td>non-stop</td>\n",
       "      <td>21:15</td>\n",
       "      <td>Mumbai</td>\n",
       "      <td>25,612</td>\n",
       "    </tr>\n",
       "    <tr>\n",
       "      <th>2</th>\n",
       "      <td>11-02-2022</td>\n",
       "      <td>Air India</td>\n",
       "      <td>AI</td>\n",
       "      <td>531</td>\n",
       "      <td>20:00</td>\n",
       "      <td>Delhi</td>\n",
       "      <td>24h 45m</td>\n",
       "      <td>1-stop\\n\\t\\t\\t\\t\\t\\t\\t\\t\\t\\t\\t\\t\\n\\t\\t\\t\\t\\t\\t...</td>\n",
       "      <td>20:45</td>\n",
       "      <td>Mumbai</td>\n",
       "      <td>42,220</td>\n",
       "    </tr>\n",
       "    <tr>\n",
       "      <th>3</th>\n",
       "      <td>11-02-2022</td>\n",
       "      <td>Air India</td>\n",
       "      <td>AI</td>\n",
       "      <td>839</td>\n",
       "      <td>21:25</td>\n",
       "      <td>Delhi</td>\n",
       "      <td>26h 30m</td>\n",
       "      <td>1-stop\\n\\t\\t\\t\\t\\t\\t\\t\\t\\t\\t\\t\\t\\n\\t\\t\\t\\t\\t\\t...</td>\n",
       "      <td>23:55</td>\n",
       "      <td>Mumbai</td>\n",
       "      <td>44,450</td>\n",
       "    </tr>\n",
       "    <tr>\n",
       "      <th>4</th>\n",
       "      <td>11-02-2022</td>\n",
       "      <td>Air India</td>\n",
       "      <td>AI</td>\n",
       "      <td>544</td>\n",
       "      <td>17:15</td>\n",
       "      <td>Delhi</td>\n",
       "      <td>06h 40m</td>\n",
       "      <td>1-stop\\n\\t\\t\\t\\t\\t\\t\\t\\t\\t\\t\\t\\t\\n\\t\\t\\t\\t\\t\\t...</td>\n",
       "      <td>23:55</td>\n",
       "      <td>Mumbai</td>\n",
       "      <td>46,690</td>\n",
       "    </tr>\n",
       "  </tbody>\n",
       "</table>\n",
       "</div>"
      ],
      "text/plain": [
       "         date    airline ch_code  num_code dep_time   from time_taken  \\\n",
       "0  11-02-2022  Air India      AI       868    18:00  Delhi    02h 00m   \n",
       "1  11-02-2022  Air India      AI       624    19:00  Delhi    02h 15m   \n",
       "2  11-02-2022  Air India      AI       531    20:00  Delhi    24h 45m   \n",
       "3  11-02-2022  Air India      AI       839    21:25  Delhi    26h 30m   \n",
       "4  11-02-2022  Air India      AI       544    17:15  Delhi    06h 40m   \n",
       "\n",
       "                                                stop arr_time      to   price  \n",
       "0                                          non-stop     20:00  Mumbai  25,612  \n",
       "1                                          non-stop     21:15  Mumbai  25,612  \n",
       "2  1-stop\\n\\t\\t\\t\\t\\t\\t\\t\\t\\t\\t\\t\\t\\n\\t\\t\\t\\t\\t\\t...    20:45  Mumbai  42,220  \n",
       "3  1-stop\\n\\t\\t\\t\\t\\t\\t\\t\\t\\t\\t\\t\\t\\n\\t\\t\\t\\t\\t\\t...    23:55  Mumbai  44,450  \n",
       "4  1-stop\\n\\t\\t\\t\\t\\t\\t\\t\\t\\t\\t\\t\\t\\n\\t\\t\\t\\t\\t\\t...    23:55  Mumbai  46,690  "
      ]
     },
     "execution_count": 34,
     "metadata": {},
     "output_type": "execute_result"
    }
   ],
   "source": [
    "bus.head()"
   ]
  },
  {
   "cell_type": "code",
   "execution_count": 35,
   "id": "191acad5",
   "metadata": {
    "execution": {
     "iopub.execute_input": "2023-08-06T19:26:16.230569Z",
     "iopub.status.busy": "2023-08-06T19:26:16.230142Z",
     "iopub.status.idle": "2023-08-06T19:26:16.249359Z",
     "shell.execute_reply": "2023-08-06T19:26:16.248137Z"
    },
    "papermill": {
     "duration": 0.052668,
     "end_time": "2023-08-06T19:26:16.251922",
     "exception": false,
     "start_time": "2023-08-06T19:26:16.199254",
     "status": "completed"
    },
    "tags": []
   },
   "outputs": [
    {
     "data": {
      "text/html": [
       "<div>\n",
       "<style scoped>\n",
       "    .dataframe tbody tr th:only-of-type {\n",
       "        vertical-align: middle;\n",
       "    }\n",
       "\n",
       "    .dataframe tbody tr th {\n",
       "        vertical-align: top;\n",
       "    }\n",
       "\n",
       "    .dataframe thead th {\n",
       "        text-align: right;\n",
       "    }\n",
       "</style>\n",
       "<table border=\"1\" class=\"dataframe\">\n",
       "  <thead>\n",
       "    <tr style=\"text-align: right;\">\n",
       "      <th></th>\n",
       "      <th>date</th>\n",
       "      <th>airline</th>\n",
       "      <th>ch_code</th>\n",
       "      <th>num_code</th>\n",
       "      <th>dep_time</th>\n",
       "      <th>from</th>\n",
       "      <th>time_taken</th>\n",
       "      <th>stop</th>\n",
       "      <th>arr_time</th>\n",
       "      <th>to</th>\n",
       "      <th>price</th>\n",
       "    </tr>\n",
       "  </thead>\n",
       "  <tbody>\n",
       "    <tr>\n",
       "      <th>0</th>\n",
       "      <td>11-02-2022</td>\n",
       "      <td>SpiceJet</td>\n",
       "      <td>SG</td>\n",
       "      <td>8709</td>\n",
       "      <td>18:55</td>\n",
       "      <td>Delhi</td>\n",
       "      <td>02h 10m</td>\n",
       "      <td>non-stop</td>\n",
       "      <td>21:05</td>\n",
       "      <td>Mumbai</td>\n",
       "      <td>5,953</td>\n",
       "    </tr>\n",
       "    <tr>\n",
       "      <th>1</th>\n",
       "      <td>11-02-2022</td>\n",
       "      <td>SpiceJet</td>\n",
       "      <td>SG</td>\n",
       "      <td>8157</td>\n",
       "      <td>06:20</td>\n",
       "      <td>Delhi</td>\n",
       "      <td>02h 20m</td>\n",
       "      <td>non-stop</td>\n",
       "      <td>08:40</td>\n",
       "      <td>Mumbai</td>\n",
       "      <td>5,953</td>\n",
       "    </tr>\n",
       "    <tr>\n",
       "      <th>2</th>\n",
       "      <td>11-02-2022</td>\n",
       "      <td>AirAsia</td>\n",
       "      <td>I5</td>\n",
       "      <td>764</td>\n",
       "      <td>04:25</td>\n",
       "      <td>Delhi</td>\n",
       "      <td>02h 10m</td>\n",
       "      <td>non-stop</td>\n",
       "      <td>06:35</td>\n",
       "      <td>Mumbai</td>\n",
       "      <td>5,956</td>\n",
       "    </tr>\n",
       "    <tr>\n",
       "      <th>3</th>\n",
       "      <td>11-02-2022</td>\n",
       "      <td>Vistara</td>\n",
       "      <td>UK</td>\n",
       "      <td>995</td>\n",
       "      <td>10:20</td>\n",
       "      <td>Delhi</td>\n",
       "      <td>02h 15m</td>\n",
       "      <td>non-stop</td>\n",
       "      <td>12:35</td>\n",
       "      <td>Mumbai</td>\n",
       "      <td>5,955</td>\n",
       "    </tr>\n",
       "    <tr>\n",
       "      <th>4</th>\n",
       "      <td>11-02-2022</td>\n",
       "      <td>Vistara</td>\n",
       "      <td>UK</td>\n",
       "      <td>963</td>\n",
       "      <td>08:50</td>\n",
       "      <td>Delhi</td>\n",
       "      <td>02h 20m</td>\n",
       "      <td>non-stop</td>\n",
       "      <td>11:10</td>\n",
       "      <td>Mumbai</td>\n",
       "      <td>5,955</td>\n",
       "    </tr>\n",
       "  </tbody>\n",
       "</table>\n",
       "</div>"
      ],
      "text/plain": [
       "         date   airline ch_code  num_code dep_time   from time_taken  \\\n",
       "0  11-02-2022  SpiceJet      SG      8709    18:55  Delhi    02h 10m   \n",
       "1  11-02-2022  SpiceJet      SG      8157    06:20  Delhi    02h 20m   \n",
       "2  11-02-2022   AirAsia      I5       764    04:25  Delhi    02h 10m   \n",
       "3  11-02-2022   Vistara      UK       995    10:20  Delhi    02h 15m   \n",
       "4  11-02-2022   Vistara      UK       963    08:50  Delhi    02h 20m   \n",
       "\n",
       "        stop arr_time      to  price  \n",
       "0  non-stop     21:05  Mumbai  5,953  \n",
       "1  non-stop     08:40  Mumbai  5,953  \n",
       "2  non-stop     06:35  Mumbai  5,956  \n",
       "3  non-stop     12:35  Mumbai  5,955  \n",
       "4  non-stop     11:10  Mumbai  5,955  "
      ]
     },
     "execution_count": 35,
     "metadata": {},
     "output_type": "execute_result"
    }
   ],
   "source": [
    "eco.head()"
   ]
  },
  {
   "cell_type": "markdown",
   "id": "af729afd",
   "metadata": {
    "papermill": {
     "duration": 0.030004,
     "end_time": "2023-08-06T19:26:16.311849",
     "exception": false,
     "start_time": "2023-08-06T19:26:16.281845",
     "status": "completed"
    },
    "tags": []
   },
   "source": [
    "### Q3: How does the ticket price vary between Economy and Business class?"
   ]
  },
  {
   "cell_type": "code",
   "execution_count": 36,
   "id": "a246868e",
   "metadata": {
    "execution": {
     "iopub.execute_input": "2023-08-06T19:26:16.377923Z",
     "iopub.status.busy": "2023-08-06T19:26:16.377493Z",
     "iopub.status.idle": "2023-08-06T19:26:16.421585Z",
     "shell.execute_reply": "2023-08-06T19:26:16.420294Z"
    },
    "papermill": {
     "duration": 0.081379,
     "end_time": "2023-08-06T19:26:16.424702",
     "exception": false,
     "start_time": "2023-08-06T19:26:16.343323",
     "status": "completed"
    },
    "tags": []
   },
   "outputs": [
    {
     "data": {
      "text/plain": [
       "min    1,00,111\n",
       "max      99,680\n",
       "Name: price, dtype: object"
      ]
     },
     "execution_count": 36,
     "metadata": {},
     "output_type": "execute_result"
    }
   ],
   "source": [
    "bus[\"price\"].agg([\"min\" , 'max'])"
   ]
  },
  {
   "cell_type": "code",
   "execution_count": 37,
   "id": "4aad55c1",
   "metadata": {
    "execution": {
     "iopub.execute_input": "2023-08-06T19:26:16.490606Z",
     "iopub.status.busy": "2023-08-06T19:26:16.490173Z",
     "iopub.status.idle": "2023-08-06T19:26:16.570435Z",
     "shell.execute_reply": "2023-08-06T19:26:16.569099Z"
    },
    "papermill": {
     "duration": 0.116317,
     "end_time": "2023-08-06T19:26:16.573210",
     "exception": false,
     "start_time": "2023-08-06T19:26:16.456893",
     "status": "completed"
    },
    "tags": []
   },
   "outputs": [
    {
     "data": {
      "text/plain": [
       "min    1,105\n",
       "max    9,999\n",
       "Name: price, dtype: object"
      ]
     },
     "execution_count": 37,
     "metadata": {},
     "output_type": "execute_result"
    }
   ],
   "source": [
    "eco[\"price\"].agg([\"min\" , 'max'])"
   ]
  },
  {
   "cell_type": "markdown",
   "id": "d9ebfe16",
   "metadata": {
    "papermill": {
     "duration": 0.031767,
     "end_time": "2023-08-06T19:26:16.636298",
     "exception": false,
     "start_time": "2023-08-06T19:26:16.604531",
     "status": "completed"
    },
    "tags": []
   },
   "source": [
    "``1-Class affect price ``\n",
    "Business_Class are the largest the economy_Class in prices"
   ]
  },
  {
   "cell_type": "markdown",
   "id": "623ee0e3",
   "metadata": {
    "papermill": {
     "duration": 0.032686,
     "end_time": "2023-08-06T19:26:16.701802",
     "exception": false,
     "start_time": "2023-08-06T19:26:16.669116",
     "status": "completed"
    },
    "tags": []
   },
   "source": [
    "### Q4:How does the ticket price vary days_left\n"
   ]
  },
  {
   "cell_type": "code",
   "execution_count": 38,
   "id": "72124cb7",
   "metadata": {
    "execution": {
     "iopub.execute_input": "2023-08-06T19:26:16.764568Z",
     "iopub.status.busy": "2023-08-06T19:26:16.764092Z",
     "iopub.status.idle": "2023-08-06T19:26:23.143434Z",
     "shell.execute_reply": "2023-08-06T19:26:23.142221Z"
    },
    "papermill": {
     "duration": 6.413898,
     "end_time": "2023-08-06T19:26:23.146055",
     "exception": false,
     "start_time": "2023-08-06T19:26:16.732157",
     "status": "completed"
    },
    "tags": []
   },
   "outputs": [
    {
     "name": "stderr",
     "output_type": "stream",
     "text": [
      "/opt/conda/lib/python3.10/site-packages/seaborn/axisgrid.py:118: UserWarning: The figure layout has changed to tight\n",
      "  self._figure.tight_layout(*args, **kwargs)\n"
     ]
    },
    {
     "data": {
      "text/plain": [
       "<seaborn.axisgrid.FacetGrid at 0x7c1908b8da80>"
      ]
     },
     "execution_count": 38,
     "metadata": {},
     "output_type": "execute_result"
    },
    {
     "data": {
      "image/png": "[encoded data removed]",
      "text/plain": [
       "<Figure size 500x500 with 1 Axes>"
      ]
     },
     "metadata": {},
     "output_type": "display_data"
    }
   ],
   "source": [
    "sns.relplot(\n",
    "    data=df, kind=\"line\",\n",
    "    x=\"days_left\", y=\"price\"\n",
    ")"
   ]
  },
  {
   "cell_type": "code",
   "execution_count": 39,
   "id": "36d9a556",
   "metadata": {
    "execution": {
     "iopub.execute_input": "2023-08-06T19:26:23.213600Z",
     "iopub.status.busy": "2023-08-06T19:26:23.212984Z",
     "iopub.status.idle": "2023-08-06T19:26:23.242960Z",
     "shell.execute_reply": "2023-08-06T19:26:23.241933Z"
    },
    "papermill": {
     "duration": 0.067315,
     "end_time": "2023-08-06T19:26:23.245470",
     "exception": false,
     "start_time": "2023-08-06T19:26:23.178155",
     "status": "completed"
    },
    "tags": []
   },
   "outputs": [
    {
     "name": "stderr",
     "output_type": "stream",
     "text": [
      "/tmp/ipykernel_20/1055346600.py:1: FutureWarning: The default value of numeric_only in DataFrameGroupBy.mean is deprecated. In a future version, numeric_only will default to False. Either specify numeric_only or select only columns which should be valid for the function.\n",
      "  df.groupby([\"days_left\"]).mean().sort_values(\"days_left\",ascending=True)[[\"price\"]][:10]\n"
     ]
    },
    {
     "data": {
      "text/html": [
       "<div>\n",
       "<style scoped>\n",
       "    .dataframe tbody tr th:only-of-type {\n",
       "        vertical-align: middle;\n",
       "    }\n",
       "\n",
       "    .dataframe tbody tr th {\n",
       "        vertical-align: top;\n",
       "    }\n",
       "\n",
       "    .dataframe thead th {\n",
       "        text-align: right;\n",
       "    }\n",
       "</style>\n",
       "<table border=\"1\" class=\"dataframe\">\n",
       "  <thead>\n",
       "    <tr style=\"text-align: right;\">\n",
       "      <th></th>\n",
       "      <th>price</th>\n",
       "    </tr>\n",
       "    <tr>\n",
       "      <th>days_left</th>\n",
       "      <th></th>\n",
       "    </tr>\n",
       "  </thead>\n",
       "  <tbody>\n",
       "    <tr>\n",
       "      <th>1</th>\n",
       "      <td>21591.867151</td>\n",
       "    </tr>\n",
       "    <tr>\n",
       "      <th>2</th>\n",
       "      <td>30211.299801</td>\n",
       "    </tr>\n",
       "    <tr>\n",
       "      <th>3</th>\n",
       "      <td>28976.083569</td>\n",
       "    </tr>\n",
       "    <tr>\n",
       "      <th>4</th>\n",
       "      <td>25730.905653</td>\n",
       "    </tr>\n",
       "    <tr>\n",
       "      <th>5</th>\n",
       "      <td>26679.773368</td>\n",
       "    </tr>\n",
       "    <tr>\n",
       "      <th>6</th>\n",
       "      <td>24856.493902</td>\n",
       "    </tr>\n",
       "    <tr>\n",
       "      <th>7</th>\n",
       "      <td>25588.367351</td>\n",
       "    </tr>\n",
       "    <tr>\n",
       "      <th>8</th>\n",
       "      <td>24895.883995</td>\n",
       "    </tr>\n",
       "    <tr>\n",
       "      <th>9</th>\n",
       "      <td>25726.246072</td>\n",
       "    </tr>\n",
       "    <tr>\n",
       "      <th>10</th>\n",
       "      <td>25572.819134</td>\n",
       "    </tr>\n",
       "  </tbody>\n",
       "</table>\n",
       "</div>"
      ],
      "text/plain": [
       "                  price\n",
       "days_left              \n",
       "1          21591.867151\n",
       "2          30211.299801\n",
       "3          28976.083569\n",
       "4          25730.905653\n",
       "5          26679.773368\n",
       "6          24856.493902\n",
       "7          25588.367351\n",
       "8          24895.883995\n",
       "9          25726.246072\n",
       "10         25572.819134"
      ]
     },
     "execution_count": 39,
     "metadata": {},
     "output_type": "execute_result"
    }
   ],
   "source": [
    "df.groupby([\"days_left\"]).mean().sort_values(\"days_left\",ascending=True)[[\"price\"]][:10]"
   ]
  },
  {
   "cell_type": "markdown",
   "id": "9be89e1a",
   "metadata": {
    "papermill": {
     "duration": 0.033224,
     "end_time": "2023-08-06T19:26:23.311069",
     "exception": false,
     "start_time": "2023-08-06T19:26:23.277845",
     "status": "completed"
    },
    "tags": []
   },
   "source": [
    "``2-days_left is not affect prices`` some days between 10 to 20 day Cheaper from days 1 to 9"
   ]
  },
  {
   "cell_type": "markdown",
   "id": "d53b8ee2",
   "metadata": {
    "papermill": {
     "duration": 0.031767,
     "end_time": "2023-08-06T19:26:23.375028",
     "exception": false,
     "start_time": "2023-08-06T19:26:23.343261",
     "status": "completed"
    },
    "tags": []
   },
   "source": [
    "### Q5: How does the ticket price vary stop_days?"
   ]
  },
  {
   "cell_type": "code",
   "execution_count": 40,
   "id": "8eabeba9",
   "metadata": {
    "execution": {
     "iopub.execute_input": "2023-08-06T19:26:23.441746Z",
     "iopub.status.busy": "2023-08-06T19:26:23.441292Z",
     "iopub.status.idle": "2023-08-06T19:26:23.492470Z",
     "shell.execute_reply": "2023-08-06T19:26:23.491119Z"
    },
    "papermill": {
     "duration": 0.086795,
     "end_time": "2023-08-06T19:26:23.494895",
     "exception": false,
     "start_time": "2023-08-06T19:26:23.408100",
     "status": "completed"
    },
    "tags": []
   },
   "outputs": [
    {
     "name": "stderr",
     "output_type": "stream",
     "text": [
      "/tmp/ipykernel_20/2517235187.py:1: FutureWarning: The default value of numeric_only in DataFrameGroupBy.mean is deprecated. In a future version, numeric_only will default to False. Either specify numeric_only or select only columns which should be valid for the function.\n",
      "  df.groupby([\"stops\"]).mean().sort_values(\"price\",ascending=False)[[\"price\"]]\n"
     ]
    },
    {
     "data": {
      "text/html": [
       "<div>\n",
       "<style scoped>\n",
       "    .dataframe tbody tr th:only-of-type {\n",
       "        vertical-align: middle;\n",
       "    }\n",
       "\n",
       "    .dataframe tbody tr th {\n",
       "        vertical-align: top;\n",
       "    }\n",
       "\n",
       "    .dataframe thead th {\n",
       "        text-align: right;\n",
       "    }\n",
       "</style>\n",
       "<table border=\"1\" class=\"dataframe\">\n",
       "  <thead>\n",
       "    <tr style=\"text-align: right;\">\n",
       "      <th></th>\n",
       "      <th>price</th>\n",
       "    </tr>\n",
       "    <tr>\n",
       "      <th>stops</th>\n",
       "      <th></th>\n",
       "    </tr>\n",
       "  </thead>\n",
       "  <tbody>\n",
       "    <tr>\n",
       "      <th>one</th>\n",
       "      <td>22900.992482</td>\n",
       "    </tr>\n",
       "    <tr>\n",
       "      <th>two_or_more</th>\n",
       "      <td>14113.450775</td>\n",
       "    </tr>\n",
       "    <tr>\n",
       "      <th>zero</th>\n",
       "      <td>9375.938535</td>\n",
       "    </tr>\n",
       "  </tbody>\n",
       "</table>\n",
       "</div>"
      ],
      "text/plain": [
       "                    price\n",
       "stops                    \n",
       "one          22900.992482\n",
       "two_or_more  14113.450775\n",
       "zero          9375.938535"
      ]
     },
     "execution_count": 40,
     "metadata": {},
     "output_type": "execute_result"
    }
   ],
   "source": [
    "df.groupby([\"stops\"]).mean().sort_values(\"price\",ascending=False)[[\"price\"]]"
   ]
  },
  {
   "cell_type": "code",
   "execution_count": 41,
   "id": "4c6917a4",
   "metadata": {
    "execution": {
     "iopub.execute_input": "2023-08-06T19:26:23.561267Z",
     "iopub.status.busy": "2023-08-06T19:26:23.560792Z",
     "iopub.status.idle": "2023-08-06T19:26:23.779556Z",
     "shell.execute_reply": "2023-08-06T19:26:23.778211Z"
    },
    "papermill": {
     "duration": 0.25515,
     "end_time": "2023-08-06T19:26:23.782168",
     "exception": false,
     "start_time": "2023-08-06T19:26:23.527018",
     "status": "completed"
    },
    "tags": []
   },
   "outputs": [
    {
     "data": {
      "text/plain": [
       "<Axes: xlabel='stops'>"
      ]
     },
     "execution_count": 41,
     "metadata": {},
     "output_type": "execute_result"
    },
    {
     "data": {
      "image/png": "[encoded data removed]",
      "text/plain": [
       "<Figure size 640x480 with 1 Axes>"
      ]
     },
     "metadata": {},
     "output_type": "display_data"
    }
   ],
   "source": [
    "df.groupby(\"stops\")['price'].mean().plot.bar()\n"
   ]
  },
  {
   "cell_type": "markdown",
   "id": "f4f762a5",
   "metadata": {
    "papermill": {
     "duration": 0.033607,
     "end_time": "2023-08-06T19:26:23.848644",
     "exception": false,
     "start_time": "2023-08-06T19:26:23.815037",
     "status": "completed"
    },
    "tags": []
   },
   "source": [
    "``3-Stops is affect price`` price one > (zero) and (two or more)"
   ]
  },
  {
   "cell_type": "markdown",
   "id": "15d57995",
   "metadata": {
    "papermill": {
     "duration": 0.032143,
     "end_time": "2023-08-06T19:26:23.913974",
     "exception": false,
     "start_time": "2023-08-06T19:26:23.881831",
     "status": "completed"
    },
    "tags": []
   },
   "source": [
    "### Q6:How does the ticket price vary between source and destionation?"
   ]
  },
  {
   "cell_type": "code",
   "execution_count": 42,
   "id": "d5c3218d",
   "metadata": {
    "execution": {
     "iopub.execute_input": "2023-08-06T19:26:23.980676Z",
     "iopub.status.busy": "2023-08-06T19:26:23.980255Z",
     "iopub.status.idle": "2023-08-06T19:26:24.021860Z",
     "shell.execute_reply": "2023-08-06T19:26:24.020421Z"
    },
    "papermill": {
     "duration": 0.078385,
     "end_time": "2023-08-06T19:26:24.024695",
     "exception": false,
     "start_time": "2023-08-06T19:26:23.946310",
     "status": "completed"
    },
    "tags": []
   },
   "outputs": [
    {
     "data": {
      "text/plain": [
       "destination_city\n",
       "Mumbai       1263052374\n",
       "Bangalore    1102760134\n",
       "Kolkata      1087744724\n",
       "Delhi        1057533005\n",
       "Chennai       886211782\n",
       "Hyderabad     872792256\n",
       "Name: price, dtype: int64"
      ]
     },
     "execution_count": 42,
     "metadata": {},
     "output_type": "execute_result"
    }
   ],
   "source": [
    "df.groupby(\"destination_city\")['price'].sum().sort_values(ascending=False)"
   ]
  },
  {
   "cell_type": "code",
   "execution_count": 43,
   "id": "224b6f38",
   "metadata": {
    "execution": {
     "iopub.execute_input": "2023-08-06T19:26:24.092471Z",
     "iopub.status.busy": "2023-08-06T19:26:24.091753Z",
     "iopub.status.idle": "2023-08-06T19:26:28.337480Z",
     "shell.execute_reply": "2023-08-06T19:26:28.336261Z"
    },
    "papermill": {
     "duration": 4.282371,
     "end_time": "2023-08-06T19:26:28.340245",
     "exception": false,
     "start_time": "2023-08-06T19:26:24.057874",
     "status": "completed"
    },
    "tags": []
   },
   "outputs": [
    {
     "data": {
      "text/plain": [
       "<Axes: xlabel='destination_city', ylabel='price'>"
      ]
     },
     "execution_count": 43,
     "metadata": {},
     "output_type": "execute_result"
    },
    {
     "data": {
      "image/png": "[encoded data removed]",
      "text/plain": [
       "<Figure size 640x480 with 1 Axes>"
      ]
     },
     "metadata": {},
     "output_type": "display_data"
    }
   ],
   "source": [
    "sns.barplot(x='destination_city',y='price',data=df)"
   ]
  },
  {
   "cell_type": "code",
   "execution_count": 44,
   "id": "1cbe73a0",
   "metadata": {
    "execution": {
     "iopub.execute_input": "2023-08-06T19:26:28.411750Z",
     "iopub.status.busy": "2023-08-06T19:26:28.411121Z",
     "iopub.status.idle": "2023-08-06T19:26:32.582358Z",
     "shell.execute_reply": "2023-08-06T19:26:32.580961Z"
    },
    "papermill": {
     "duration": 4.209804,
     "end_time": "2023-08-06T19:26:32.584848",
     "exception": false,
     "start_time": "2023-08-06T19:26:28.375044",
     "status": "completed"
    },
    "tags": []
   },
   "outputs": [
    {
     "data": {
      "text/plain": [
       "<Axes: xlabel='source_city', ylabel='price'>"
      ]
     },
     "execution_count": 44,
     "metadata": {},
     "output_type": "execute_result"
    },
    {
     "data": {
      "image/png": "[encoded data removed]",
      "text/plain": [
       "<Figure size 640x480 with 1 Axes>"
      ]
     },
     "metadata": {},
     "output_type": "display_data"
    }
   ],
   "source": [
    "sns.barplot(x='source_city',y='price',data=df)\n"
   ]
  },
  {
   "cell_type": "markdown",
   "id": "f1acb39d",
   "metadata": {
    "papermill": {
     "duration": 0.034697,
     "end_time": "2023-08-06T19:26:32.653661",
     "exception": false,
     "start_time": "2023-08-06T19:26:32.618964",
     "status": "completed"
    },
    "tags": []
   },
   "source": [
    "```4-Source and destination``` affect prices"
   ]
  },
  {
   "cell_type": "markdown",
   "id": "b54dd2c8",
   "metadata": {
    "papermill": {
     "duration": 0.034303,
     "end_time": "2023-08-06T19:26:32.722194",
     "exception": false,
     "start_time": "2023-08-06T19:26:32.687891",
     "status": "completed"
    },
    "tags": []
   },
   "source": [
    "### Q7:How does the ticket price vary between arrival  and departure_time\t?"
   ]
  },
  {
   "cell_type": "code",
   "execution_count": 45,
   "id": "7980e341",
   "metadata": {
    "execution": {
     "iopub.execute_input": "2023-08-06T19:26:32.796258Z",
     "iopub.status.busy": "2023-08-06T19:26:32.795769Z",
     "iopub.status.idle": "2023-08-06T19:26:33.779544Z",
     "shell.execute_reply": "2023-08-06T19:26:33.778432Z"
    },
    "papermill": {
     "duration": 1.023688,
     "end_time": "2023-08-06T19:26:33.782402",
     "exception": false,
     "start_time": "2023-08-06T19:26:32.758714",
     "status": "completed"
    },
    "tags": []
   },
   "outputs": [
    {
     "data": {
      "text/plain": [
       "<Axes: xlabel='arrival_time', ylabel='price'>"
      ]
     },
     "execution_count": 45,
     "metadata": {},
     "output_type": "execute_result"
    },
    {
     "data": {
      "image/png": "[encoded data removed]",
      "text/plain": [
       "<Figure size 640x480 with 1 Axes>"
      ]
     },
     "metadata": {},
     "output_type": "display_data"
    }
   ],
   "source": [
    "sns.histplot(data=df, x=\"arrival_time\",y=\"price\")\n"
   ]
  },
  {
   "cell_type": "code",
   "execution_count": 46,
   "id": "f6424944",
   "metadata": {
    "execution": {
     "iopub.execute_input": "2023-08-06T19:26:33.857183Z",
     "iopub.status.busy": "2023-08-06T19:26:33.856420Z",
     "iopub.status.idle": "2023-08-06T19:26:34.178827Z",
     "shell.execute_reply": "2023-08-06T19:26:34.177605Z"
    },
    "papermill": {
     "duration": 0.362704,
     "end_time": "2023-08-06T19:26:34.181458",
     "exception": false,
     "start_time": "2023-08-06T19:26:33.818754",
     "status": "completed"
    },
    "tags": []
   },
   "outputs": [
    {
     "data": {
      "text/plain": [
       "<Axes: xlabel='arrival_time'>"
      ]
     },
     "execution_count": 46,
     "metadata": {},
     "output_type": "execute_result"
    },
    {
     "data": {
      "image/png": "[encoded data removed]",
      "text/plain": [
       "<Figure size 640x480 with 1 Axes>"
      ]
     },
     "metadata": {},
     "output_type": "display_data"
    }
   ],
   "source": [
    "df.groupby(\"arrival_time\")['price'].mean().plot.bar()"
   ]
  },
  {
   "cell_type": "code",
   "execution_count": 47,
   "id": "da0a2568",
   "metadata": {
    "execution": {
     "iopub.execute_input": "2023-08-06T19:26:34.256295Z",
     "iopub.status.busy": "2023-08-06T19:26:34.255841Z",
     "iopub.status.idle": "2023-08-06T19:26:40.280010Z",
     "shell.execute_reply": "2023-08-06T19:26:40.278659Z"
    },
    "papermill": {
     "duration": 6.065265,
     "end_time": "2023-08-06T19:26:40.282440",
     "exception": false,
     "start_time": "2023-08-06T19:26:34.217175",
     "status": "completed"
    },
    "tags": []
   },
   "outputs": [
    {
     "name": "stderr",
     "output_type": "stream",
     "text": [
      "/opt/conda/lib/python3.10/site-packages/seaborn/axisgrid.py:118: UserWarning: The figure layout has changed to tight\n",
      "  self._figure.tight_layout(*args, **kwargs)\n"
     ]
    },
    {
     "data": {
      "text/plain": [
       "<seaborn.axisgrid.FacetGrid at 0x7c19077dadd0>"
      ]
     },
     "execution_count": 47,
     "metadata": {},
     "output_type": "execute_result"
    },
    {
     "data": {
      "image/png": "[encoded data removed]",
      "text/plain": [
       "<Figure size 500x500 with 1 Axes>"
      ]
     },
     "metadata": {},
     "output_type": "display_data"
    }
   ],
   "source": [
    "sns.relplot(\n",
    "    data=df, kind=\"line\",\n",
    "    x=\"arrival_time\", y=\"price\"\n",
    ")"
   ]
  },
  {
   "cell_type": "code",
   "execution_count": 48,
   "id": "8fc9cdf6",
   "metadata": {
    "execution": {
     "iopub.execute_input": "2023-08-06T19:26:40.358562Z",
     "iopub.status.busy": "2023-08-06T19:26:40.358068Z",
     "iopub.status.idle": "2023-08-06T19:26:46.455799Z",
     "shell.execute_reply": "2023-08-06T19:26:46.454534Z"
    },
    "papermill": {
     "duration": 6.138776,
     "end_time": "2023-08-06T19:26:46.459016",
     "exception": false,
     "start_time": "2023-08-06T19:26:40.320240",
     "status": "completed"
    },
    "tags": []
   },
   "outputs": [
    {
     "name": "stderr",
     "output_type": "stream",
     "text": [
      "/opt/conda/lib/python3.10/site-packages/seaborn/axisgrid.py:118: UserWarning: The figure layout has changed to tight\n",
      "  self._figure.tight_layout(*args, **kwargs)\n"
     ]
    },
    {
     "data": {
      "text/plain": [
       "<seaborn.axisgrid.FacetGrid at 0x7c190e4b8160>"
      ]
     },
     "execution_count": 48,
     "metadata": {},
     "output_type": "execute_result"
    },
    {
     "data": {
      "image/png": "[encoded data removed]",
      "text/plain": [
       "<Figure size 500x500 with 1 Axes>"
      ]
     },
     "metadata": {},
     "output_type": "display_data"
    }
   ],
   "source": [
    "# departure_time\n",
    "sns.relplot(\n",
    "    data=df, kind=\"line\",\n",
    "    x=\"departure_time\", y=\"price\"\n",
    ")"
   ]
  },
  {
   "cell_type": "code",
   "execution_count": 49,
   "id": "5d2e8c47",
   "metadata": {
    "execution": {
     "iopub.execute_input": "2023-08-06T19:26:46.538236Z",
     "iopub.status.busy": "2023-08-06T19:26:46.537776Z",
     "iopub.status.idle": "2023-08-06T19:26:47.553719Z",
     "shell.execute_reply": "2023-08-06T19:26:47.552305Z"
    },
    "papermill": {
     "duration": 1.057506,
     "end_time": "2023-08-06T19:26:47.556359",
     "exception": false,
     "start_time": "2023-08-06T19:26:46.498853",
     "status": "completed"
    },
    "tags": []
   },
   "outputs": [
    {
     "data": {
      "text/plain": [
       "<Axes: xlabel='departure_time', ylabel='price'>"
      ]
     },
     "execution_count": 49,
     "metadata": {},
     "output_type": "execute_result"
    },
    {
     "data": {
      "image/png": "[encoded data removed]",
      "text/plain": [
       "<Figure size 640x480 with 1 Axes>"
      ]
     },
     "metadata": {},
     "output_type": "display_data"
    }
   ],
   "source": [
    "sns.histplot(data=df, x=\"departure_time\",y=\"price\")\n"
   ]
  },
  {
   "cell_type": "markdown",
   "id": "f672b873",
   "metadata": {
    "papermill": {
     "duration": 0.037422,
     "end_time": "2023-08-06T19:26:47.631663",
     "exception": false,
     "start_time": "2023-08-06T19:26:47.594241",
     "status": "completed"
    },
    "tags": []
   },
   "source": [
    "### Q8: Does ticket price change based on the duration?"
   ]
  },
  {
   "cell_type": "code",
   "execution_count": 50,
   "id": "277d9519",
   "metadata": {
    "execution": {
     "iopub.execute_input": "2023-08-06T19:26:47.710430Z",
     "iopub.status.busy": "2023-08-06T19:26:47.709180Z",
     "iopub.status.idle": "2023-08-06T19:26:48.023473Z",
     "shell.execute_reply": "2023-08-06T19:26:48.022422Z"
    },
    "papermill": {
     "duration": 0.356587,
     "end_time": "2023-08-06T19:26:48.025975",
     "exception": false,
     "start_time": "2023-08-06T19:26:47.669388",
     "status": "completed"
    },
    "tags": []
   },
   "outputs": [
    {
     "data": {
      "text/plain": [
       "<Axes: xlabel='duration'>"
      ]
     },
     "execution_count": 50,
     "metadata": {},
     "output_type": "execute_result"
    },
    {
     "data": {
      "image/png": "[encoded data removed]",
      "text/plain": [
       "<Figure size 640x480 with 1 Axes>"
      ]
     },
     "metadata": {},
     "output_type": "display_data"
    }
   ],
   "source": [
    "df.groupby(\"duration\")['price'].mean().plot()"
   ]
  },
  {
   "cell_type": "markdown",
   "id": "4f173c32",
   "metadata": {
    "papermill": {
     "duration": 0.039758,
     "end_time": "2023-08-06T19:26:48.106738",
     "exception": false,
     "start_time": "2023-08-06T19:26:48.066980",
     "status": "completed"
    },
    "tags": []
   },
   "source": [
    "```duration``` is not affect prices"
   ]
  },
  {
   "cell_type": "markdown",
   "id": "056b8086",
   "metadata": {
    "papermill": {
     "duration": 0.04091,
     "end_time": "2023-08-06T19:26:48.188226",
     "exception": false,
     "start_time": "2023-08-06T19:26:48.147316",
     "status": "completed"
    },
    "tags": []
   },
   "source": [
    "# Conclustion "
   ]
  },
  {
   "cell_type": "markdown",
   "id": "8a0a0b14",
   "metadata": {
    "papermill": {
     "duration": 0.039122,
     "end_time": "2023-08-06T19:26:48.267208",
     "exception": false,
     "start_time": "2023-08-06T19:26:48.228086",
     "status": "completed"
    },
    "tags": []
   },
   "source": [
    "feature vary preice:\n",
    "\n",
    "    -class\n",
    "    -stop\n",
    "    -Source and destination\n",
    "    "
   ]
  },
  {
   "cell_type": "code",
   "execution_count": null,
   "id": "ad68d2c9",
   "metadata": {
    "papermill": {
     "duration": 0.038441,
     "end_time": "2023-08-06T19:26:48.345694",
     "exception": false,
     "start_time": "2023-08-06T19:26:48.307253",
     "status": "completed"
    },
    "tags": []
   },
   "outputs": [],
   "source": []
  },
  {
   "cell_type": "code",
   "execution_count": null,
   "id": "4304c5e9",
   "metadata": {
    "papermill": {
     "duration": 0.039658,
     "end_time": "2023-08-06T19:26:48.424741",
     "exception": false,
     "start_time": "2023-08-06T19:26:48.385083",
     "status": "completed"
    },
    "tags": []
   },
   "outputs": [],
   "source": []
  }
 ],
 "metadata": {
  "kernelspec": {
   "display_name": "Python 3",
   "language": "python",
   "name": "python3"
  },
  "language_info": {
   "codemirror_mode": {
    "name": "ipython",
    "version": 3
   },
   "file_extension": ".py",
   "mimetype": "text/x-python",
   "name": "python",
   "nbconvert_exporter": "python",
   "pygments_lexer": "ipython3",
   "version": "3.10.12"
  },
  "papermill": {
   "default_parameters": {},
   "duration": 61.58839,
   "end_time": "2023-08-06T19:26:49.688554",
   "environment_variables": {},
   "exception": null,
   "input_path": "__notebook__.ipynb",
   "output_path": "__notebook__.ipynb",
   "parameters": {},
   "start_time": "2023-08-06T19:25:48.100164",
   "version": "2.4.0"
  }
 },
 "nbformat": 4,
 "nbformat_minor": 5
}
